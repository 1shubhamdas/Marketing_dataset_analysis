{
  "nbformat": 4,
  "nbformat_minor": 0,
  "metadata": {
    "colab": {
      "name": "Marketing_analysis_project.ipynb",
      "provenance": [],
      "collapsed_sections": []
    },
    "kernelspec": {
      "name": "python3",
      "display_name": "Python 3"
    }
  },
  "cells": [
    {
      "cell_type": "markdown",
      "metadata": {
        "id": "7IX1Y1iQyY7F"
      },
      "source": [
        "## **Marketing Analytics**\r\n",
        "\r\n",
        "**Introduction**\r\n",
        "\r\n",
        "The given dataset illustrates the marketing analysis after the recent campaign conducted by a certain company to undertand its customer needs and make sound decisions regarding the same. \r\n",
        "\r\n",
        "**Section 1:** Exploratory Data Analysis\r\n",
        "\r\n",
        "1. Is there any variable that could be transformed?\r\n",
        "2.  Is there any null value? How to remove them?\r\n",
        "3. Is there any scope to generate new data from the given data?\r\n",
        "4. Are there any outliers? \r\n",
        "\r\n",
        "**Section 2:** Statistical Analysis\r\n",
        "\r\n",
        "1. Is age of the customer a significant factor for number of purchase?\r\n",
        "2. Who have made the maximum purchase?\r\n",
        "3. Is there a significant relationship between geographical regional and Income?\r\n",
        "4. Which countries have made the maximum and mimimum amount of purchase? \r\n",
        "\r\n",
        "**Section 3:** Data Visualization\r\n",
        "\r\n",
        "1. Which marketing campaign is most successful?\r\n",
        "2. Which products is sold the most? \r\n",
        "3. Which country bought that product the most?\r\n",
        "4. Which product is least sold among all?"
      ]
    },
    {
      "cell_type": "code",
      "metadata": {
        "id": "WtazRcO-tOq-"
      },
      "source": [
        "#Import libraries\r\n",
        "import pandas as pd \r\n",
        "import numpy as np \r\n",
        "import seaborn as sns     \r\n",
        "sns.set()\r\n",
        "import matplotlib.pyplot as plt\r\n",
        "%matplotlib inline\r\n",
        "import datetime as dt"
      ],
      "execution_count": 77,
      "outputs": []
    },
    {
      "cell_type": "code",
      "metadata": {
        "id": "itISw04ct1A5"
      },
      "source": [
        "#Load dataset\r\n",
        "data=pd.read_csv('/content/marketing_data.csv')"
      ],
      "execution_count": 79,
      "outputs": []
    },
    {
      "cell_type": "code",
      "metadata": {
        "colab": {
          "base_uri": "https://localhost:8080/"
        },
        "id": "xmeupkspOFXY",
        "outputId": "be01da5d-9960-4f1a-9f6c-f9e5d6983c36"
      },
      "source": [
        "#Preliminary analysis to find info of the complete table\r\n",
        "data.info()"
      ],
      "execution_count": null,
      "outputs": [
        {
          "output_type": "stream",
          "text": [
            "<class 'pandas.core.frame.DataFrame'>\n",
            "RangeIndex: 2240 entries, 0 to 2239\n",
            "Data columns (total 28 columns):\n",
            " #   Column               Non-Null Count  Dtype \n",
            "---  ------               --------------  ----- \n",
            " 0   ID                   2240 non-null   int64 \n",
            " 1   Year_Birth           2240 non-null   int64 \n",
            " 2   Education            2240 non-null   object\n",
            " 3   Marital_Status       2240 non-null   object\n",
            " 4    Income              2216 non-null   object\n",
            " 5   Kidhome              2240 non-null   int64 \n",
            " 6   Teenhome             2240 non-null   int64 \n",
            " 7   Dt_Customer          2240 non-null   object\n",
            " 8   Recency              2240 non-null   int64 \n",
            " 9   MntWines             2240 non-null   int64 \n",
            " 10  MntFruits            2240 non-null   int64 \n",
            " 11  MntMeatProducts      2240 non-null   int64 \n",
            " 12  MntFishProducts      2240 non-null   int64 \n",
            " 13  MntSweetProducts     2240 non-null   int64 \n",
            " 14  MntGoldProds         2240 non-null   int64 \n",
            " 15  NumDealsPurchases    2240 non-null   int64 \n",
            " 16  NumWebPurchases      2240 non-null   int64 \n",
            " 17  NumCatalogPurchases  2240 non-null   int64 \n",
            " 18  NumStorePurchases    2240 non-null   int64 \n",
            " 19  NumWebVisitsMonth    2240 non-null   int64 \n",
            " 20  AcceptedCmp3         2240 non-null   int64 \n",
            " 21  AcceptedCmp4         2240 non-null   int64 \n",
            " 22  AcceptedCmp5         2240 non-null   int64 \n",
            " 23  AcceptedCmp1         2240 non-null   int64 \n",
            " 24  AcceptedCmp2         2240 non-null   int64 \n",
            " 25  Response             2240 non-null   int64 \n",
            " 26  Complain             2240 non-null   int64 \n",
            " 27  Country              2240 non-null   object\n",
            "dtypes: int64(23), object(5)\n",
            "memory usage: 490.1+ KB\n"
          ],
          "name": "stdout"
        }
      ]
    },
    {
      "cell_type": "code",
      "metadata": {
        "colab": {
          "base_uri": "https://localhost:8080/"
        },
        "id": "uD20j8Z2t98X",
        "outputId": "aa9f0232-3ac8-4892-b964-5b5bd5d2c543"
      },
      "source": [
        "data.shape"
      ],
      "execution_count": null,
      "outputs": [
        {
          "output_type": "execute_result",
          "data": {
            "text/plain": [
              "(2240, 28)"
            ]
          },
          "metadata": {
            "tags": []
          },
          "execution_count": 18
        }
      ]
    },
    {
      "cell_type": "code",
      "metadata": {
        "colab": {
          "base_uri": "https://localhost:8080/",
          "height": 224
        },
        "id": "cQxEUg4huBsU",
        "outputId": "27ee70fd-f468-4c89-e828-dfd74a759e68"
      },
      "source": [
        "data.head()"
      ],
      "execution_count": null,
      "outputs": [
        {
          "output_type": "execute_result",
          "data": {
            "text/html": [
              "<div>\n",
              "<style scoped>\n",
              "    .dataframe tbody tr th:only-of-type {\n",
              "        vertical-align: middle;\n",
              "    }\n",
              "\n",
              "    .dataframe tbody tr th {\n",
              "        vertical-align: top;\n",
              "    }\n",
              "\n",
              "    .dataframe thead th {\n",
              "        text-align: right;\n",
              "    }\n",
              "</style>\n",
              "<table border=\"1\" class=\"dataframe\">\n",
              "  <thead>\n",
              "    <tr style=\"text-align: right;\">\n",
              "      <th></th>\n",
              "      <th>ID</th>\n",
              "      <th>Year_Birth</th>\n",
              "      <th>Education</th>\n",
              "      <th>Marital_Status</th>\n",
              "      <th>Income</th>\n",
              "      <th>Kidhome</th>\n",
              "      <th>Teenhome</th>\n",
              "      <th>Dt_Customer</th>\n",
              "      <th>Recency</th>\n",
              "      <th>MntWines</th>\n",
              "      <th>MntFruits</th>\n",
              "      <th>MntMeatProducts</th>\n",
              "      <th>MntFishProducts</th>\n",
              "      <th>MntSweetProducts</th>\n",
              "      <th>MntGoldProds</th>\n",
              "      <th>NumDealsPurchases</th>\n",
              "      <th>NumWebPurchases</th>\n",
              "      <th>NumCatalogPurchases</th>\n",
              "      <th>NumStorePurchases</th>\n",
              "      <th>NumWebVisitsMonth</th>\n",
              "      <th>AcceptedCmp3</th>\n",
              "      <th>AcceptedCmp4</th>\n",
              "      <th>AcceptedCmp5</th>\n",
              "      <th>AcceptedCmp1</th>\n",
              "      <th>AcceptedCmp2</th>\n",
              "      <th>Response</th>\n",
              "      <th>Complain</th>\n",
              "      <th>Country</th>\n",
              "    </tr>\n",
              "  </thead>\n",
              "  <tbody>\n",
              "    <tr>\n",
              "      <th>0</th>\n",
              "      <td>1826</td>\n",
              "      <td>1970</td>\n",
              "      <td>Graduation</td>\n",
              "      <td>Divorced</td>\n",
              "      <td>$84,835.00</td>\n",
              "      <td>0</td>\n",
              "      <td>0</td>\n",
              "      <td>6/16/14</td>\n",
              "      <td>0</td>\n",
              "      <td>189</td>\n",
              "      <td>104</td>\n",
              "      <td>379</td>\n",
              "      <td>111</td>\n",
              "      <td>189</td>\n",
              "      <td>218</td>\n",
              "      <td>1</td>\n",
              "      <td>4</td>\n",
              "      <td>4</td>\n",
              "      <td>6</td>\n",
              "      <td>1</td>\n",
              "      <td>0</td>\n",
              "      <td>0</td>\n",
              "      <td>0</td>\n",
              "      <td>0</td>\n",
              "      <td>0</td>\n",
              "      <td>1</td>\n",
              "      <td>0</td>\n",
              "      <td>SP</td>\n",
              "    </tr>\n",
              "    <tr>\n",
              "      <th>1</th>\n",
              "      <td>1</td>\n",
              "      <td>1961</td>\n",
              "      <td>Graduation</td>\n",
              "      <td>Single</td>\n",
              "      <td>$57,091.00</td>\n",
              "      <td>0</td>\n",
              "      <td>0</td>\n",
              "      <td>6/15/14</td>\n",
              "      <td>0</td>\n",
              "      <td>464</td>\n",
              "      <td>5</td>\n",
              "      <td>64</td>\n",
              "      <td>7</td>\n",
              "      <td>0</td>\n",
              "      <td>37</td>\n",
              "      <td>1</td>\n",
              "      <td>7</td>\n",
              "      <td>3</td>\n",
              "      <td>7</td>\n",
              "      <td>5</td>\n",
              "      <td>0</td>\n",
              "      <td>0</td>\n",
              "      <td>0</td>\n",
              "      <td>0</td>\n",
              "      <td>1</td>\n",
              "      <td>1</td>\n",
              "      <td>0</td>\n",
              "      <td>CA</td>\n",
              "    </tr>\n",
              "    <tr>\n",
              "      <th>2</th>\n",
              "      <td>10476</td>\n",
              "      <td>1958</td>\n",
              "      <td>Graduation</td>\n",
              "      <td>Married</td>\n",
              "      <td>$67,267.00</td>\n",
              "      <td>0</td>\n",
              "      <td>1</td>\n",
              "      <td>5/13/14</td>\n",
              "      <td>0</td>\n",
              "      <td>134</td>\n",
              "      <td>11</td>\n",
              "      <td>59</td>\n",
              "      <td>15</td>\n",
              "      <td>2</td>\n",
              "      <td>30</td>\n",
              "      <td>1</td>\n",
              "      <td>3</td>\n",
              "      <td>2</td>\n",
              "      <td>5</td>\n",
              "      <td>2</td>\n",
              "      <td>0</td>\n",
              "      <td>0</td>\n",
              "      <td>0</td>\n",
              "      <td>0</td>\n",
              "      <td>0</td>\n",
              "      <td>0</td>\n",
              "      <td>0</td>\n",
              "      <td>US</td>\n",
              "    </tr>\n",
              "    <tr>\n",
              "      <th>3</th>\n",
              "      <td>1386</td>\n",
              "      <td>1967</td>\n",
              "      <td>Graduation</td>\n",
              "      <td>Together</td>\n",
              "      <td>$32,474.00</td>\n",
              "      <td>1</td>\n",
              "      <td>1</td>\n",
              "      <td>5/11/14</td>\n",
              "      <td>0</td>\n",
              "      <td>10</td>\n",
              "      <td>0</td>\n",
              "      <td>1</td>\n",
              "      <td>0</td>\n",
              "      <td>0</td>\n",
              "      <td>0</td>\n",
              "      <td>1</td>\n",
              "      <td>1</td>\n",
              "      <td>0</td>\n",
              "      <td>2</td>\n",
              "      <td>7</td>\n",
              "      <td>0</td>\n",
              "      <td>0</td>\n",
              "      <td>0</td>\n",
              "      <td>0</td>\n",
              "      <td>0</td>\n",
              "      <td>0</td>\n",
              "      <td>0</td>\n",
              "      <td>AUS</td>\n",
              "    </tr>\n",
              "    <tr>\n",
              "      <th>4</th>\n",
              "      <td>5371</td>\n",
              "      <td>1989</td>\n",
              "      <td>Graduation</td>\n",
              "      <td>Single</td>\n",
              "      <td>$21,474.00</td>\n",
              "      <td>1</td>\n",
              "      <td>0</td>\n",
              "      <td>4/8/14</td>\n",
              "      <td>0</td>\n",
              "      <td>6</td>\n",
              "      <td>16</td>\n",
              "      <td>24</td>\n",
              "      <td>11</td>\n",
              "      <td>0</td>\n",
              "      <td>34</td>\n",
              "      <td>2</td>\n",
              "      <td>3</td>\n",
              "      <td>1</td>\n",
              "      <td>2</td>\n",
              "      <td>7</td>\n",
              "      <td>1</td>\n",
              "      <td>0</td>\n",
              "      <td>0</td>\n",
              "      <td>0</td>\n",
              "      <td>0</td>\n",
              "      <td>1</td>\n",
              "      <td>0</td>\n",
              "      <td>SP</td>\n",
              "    </tr>\n",
              "  </tbody>\n",
              "</table>\n",
              "</div>"
            ],
            "text/plain": [
              "      ID  Year_Birth   Education  ... Response Complain  Country\n",
              "0   1826        1970  Graduation  ...        1        0       SP\n",
              "1      1        1961  Graduation  ...        1        0       CA\n",
              "2  10476        1958  Graduation  ...        0        0       US\n",
              "3   1386        1967  Graduation  ...        0        0      AUS\n",
              "4   5371        1989  Graduation  ...        1        0       SP\n",
              "\n",
              "[5 rows x 28 columns]"
            ]
          },
          "metadata": {
            "tags": []
          },
          "execution_count": 19
        }
      ]
    },
    {
      "cell_type": "code",
      "metadata": {
        "colab": {
          "base_uri": "https://localhost:8080/"
        },
        "id": "YrvjqTnU51tK",
        "outputId": "f759bd35-41db-41ca-fd97-3d7bd0e3f8cc"
      },
      "source": [
        "data.columns"
      ],
      "execution_count": 54,
      "outputs": [
        {
          "output_type": "execute_result",
          "data": {
            "text/plain": [
              "Index(['Year_Birth', 'Education', 'Marital_Status', 'Income', 'Recency',\n",
              "       'MntWines', 'MntFruits', 'MntMeatProducts', 'MntFishProducts',\n",
              "       'MntSweetProducts', 'MntGoldProds', 'NumDealsPurchases',\n",
              "       'NumWebPurchases', 'NumCatalogPurchases', 'NumStorePurchases',\n",
              "       'NumWebVisitsMonth', 'AcceptedCmp3', 'AcceptedCmp4', 'AcceptedCmp5',\n",
              "       'AcceptedCmp1', 'AcceptedCmp2', 'Response', 'Complain', 'Country',\n",
              "       'Children', 'Purchased', 'Customer_Age', 'TotalMnt', 'TotalPurchases',\n",
              "       'TotalCampaignsAcc', 'Customer_age_grp'],\n",
              "      dtype='object')"
            ]
          },
          "metadata": {
            "tags": []
          },
          "execution_count": 54
        }
      ]
    },
    {
      "cell_type": "code",
      "metadata": {
        "colab": {
          "base_uri": "https://localhost:8080/"
        },
        "id": "bzpE-6ui5_76",
        "outputId": "8eeacc9b-2f34-476a-9394-4a70df0e3772"
      },
      "source": [
        "data.dtypes"
      ],
      "execution_count": null,
      "outputs": [
        {
          "output_type": "execute_result",
          "data": {
            "text/plain": [
              "ID                      int64\n",
              "Year_Birth              int64\n",
              "Education              object\n",
              "Marital_Status         object\n",
              " Income                object\n",
              "Kidhome                 int64\n",
              "Teenhome                int64\n",
              "Dt_Customer            object\n",
              "Recency                 int64\n",
              "MntWines                int64\n",
              "MntFruits               int64\n",
              "MntMeatProducts         int64\n",
              "MntFishProducts         int64\n",
              "MntSweetProducts        int64\n",
              "MntGoldProds            int64\n",
              "NumDealsPurchases       int64\n",
              "NumWebPurchases         int64\n",
              "NumCatalogPurchases     int64\n",
              "NumStorePurchases       int64\n",
              "NumWebVisitsMonth       int64\n",
              "AcceptedCmp3            int64\n",
              "AcceptedCmp4            int64\n",
              "AcceptedCmp5            int64\n",
              "AcceptedCmp1            int64\n",
              "AcceptedCmp2            int64\n",
              "Response                int64\n",
              "Complain                int64\n",
              "Country                object\n",
              "dtype: object"
            ]
          },
          "metadata": {
            "tags": []
          },
          "execution_count": 21
        }
      ]
    },
    {
      "cell_type": "markdown",
      "metadata": {
        "id": "FH4ts4W-7hgw"
      },
      "source": [
        "# **1. Exploratory Data Analysis**"
      ]
    },
    {
      "cell_type": "markdown",
      "metadata": {
        "id": "wuRC1wgLEvJr"
      },
      "source": [
        "Check for null values"
      ]
    },
    {
      "cell_type": "code",
      "metadata": {
        "colab": {
          "base_uri": "https://localhost:8080/"
        },
        "id": "FXLNSFPCE6Du",
        "outputId": "0fa8a77b-ef2f-4793-8cc3-4f29df53d27c"
      },
      "source": [
        "data.isnull().sum()"
      ],
      "execution_count": null,
      "outputs": [
        {
          "output_type": "execute_result",
          "data": {
            "text/plain": [
              "ID                      0\n",
              "Year_Birth              0\n",
              "Education               0\n",
              "Marital_Status          0\n",
              " Income                24\n",
              "Kidhome                 0\n",
              "Teenhome                0\n",
              "Dt_Customer             0\n",
              "Recency                 0\n",
              "MntWines                0\n",
              "MntFruits               0\n",
              "MntMeatProducts         0\n",
              "MntFishProducts         0\n",
              "MntSweetProducts        0\n",
              "MntGoldProds            0\n",
              "NumDealsPurchases       0\n",
              "NumWebPurchases         0\n",
              "NumCatalogPurchases     0\n",
              "NumStorePurchases       0\n",
              "NumWebVisitsMonth       0\n",
              "AcceptedCmp3            0\n",
              "AcceptedCmp4            0\n",
              "AcceptedCmp5            0\n",
              "AcceptedCmp1            0\n",
              "AcceptedCmp2            0\n",
              "Response                0\n",
              "Complain                0\n",
              "Country                 0\n",
              "dtype: int64"
            ]
          },
          "metadata": {
            "tags": []
          },
          "execution_count": 22
        }
      ]
    },
    {
      "cell_type": "markdown",
      "metadata": {
        "id": "jjn5yGEAEyiO"
      },
      "source": [
        "Check for unique values"
      ]
    },
    {
      "cell_type": "code",
      "metadata": {
        "colab": {
          "base_uri": "https://localhost:8080/"
        },
        "id": "Ns_WeQRjFf4P",
        "outputId": "19599a0f-bc0e-40fe-fd41-fed08cd001e1"
      },
      "source": [
        "data.nunique()"
      ],
      "execution_count": null,
      "outputs": [
        {
          "output_type": "execute_result",
          "data": {
            "text/plain": [
              "ID                     2240\n",
              "Year_Birth               59\n",
              "Education                 5\n",
              "Marital_Status            8\n",
              " Income                1974\n",
              "Kidhome                   3\n",
              "Teenhome                  3\n",
              "Dt_Customer             663\n",
              "Recency                 100\n",
              "MntWines                776\n",
              "MntFruits               158\n",
              "MntMeatProducts         558\n",
              "MntFishProducts         182\n",
              "MntSweetProducts        177\n",
              "MntGoldProds            213\n",
              "NumDealsPurchases        15\n",
              "NumWebPurchases          15\n",
              "NumCatalogPurchases      14\n",
              "NumStorePurchases        14\n",
              "NumWebVisitsMonth        16\n",
              "AcceptedCmp3              2\n",
              "AcceptedCmp4              2\n",
              "AcceptedCmp5              2\n",
              "AcceptedCmp1              2\n",
              "AcceptedCmp2              2\n",
              "Response                  2\n",
              "Complain                  2\n",
              "Country                   8\n",
              "dtype: int64"
            ]
          },
          "metadata": {
            "tags": []
          },
          "execution_count": 13
        }
      ]
    },
    {
      "cell_type": "code",
      "metadata": {
        "colab": {
          "base_uri": "https://localhost:8080/",
          "height": 317
        },
        "id": "42MZ9BqYFr6e",
        "outputId": "74418219-4527-4bba-9a38-5874ccc6edd6"
      },
      "source": [
        "data.describe()"
      ],
      "execution_count": null,
      "outputs": [
        {
          "output_type": "execute_result",
          "data": {
            "text/html": [
              "<div>\n",
              "<style scoped>\n",
              "    .dataframe tbody tr th:only-of-type {\n",
              "        vertical-align: middle;\n",
              "    }\n",
              "\n",
              "    .dataframe tbody tr th {\n",
              "        vertical-align: top;\n",
              "    }\n",
              "\n",
              "    .dataframe thead th {\n",
              "        text-align: right;\n",
              "    }\n",
              "</style>\n",
              "<table border=\"1\" class=\"dataframe\">\n",
              "  <thead>\n",
              "    <tr style=\"text-align: right;\">\n",
              "      <th></th>\n",
              "      <th>ID</th>\n",
              "      <th>Year_Birth</th>\n",
              "      <th>Kidhome</th>\n",
              "      <th>Teenhome</th>\n",
              "      <th>Recency</th>\n",
              "      <th>MntWines</th>\n",
              "      <th>MntFruits</th>\n",
              "      <th>MntMeatProducts</th>\n",
              "      <th>MntFishProducts</th>\n",
              "      <th>MntSweetProducts</th>\n",
              "      <th>MntGoldProds</th>\n",
              "      <th>NumDealsPurchases</th>\n",
              "      <th>NumWebPurchases</th>\n",
              "      <th>NumCatalogPurchases</th>\n",
              "      <th>NumStorePurchases</th>\n",
              "      <th>NumWebVisitsMonth</th>\n",
              "      <th>AcceptedCmp3</th>\n",
              "      <th>AcceptedCmp4</th>\n",
              "      <th>AcceptedCmp5</th>\n",
              "      <th>AcceptedCmp1</th>\n",
              "      <th>AcceptedCmp2</th>\n",
              "      <th>Response</th>\n",
              "      <th>Complain</th>\n",
              "    </tr>\n",
              "  </thead>\n",
              "  <tbody>\n",
              "    <tr>\n",
              "      <th>count</th>\n",
              "      <td>2240.000000</td>\n",
              "      <td>2240.000000</td>\n",
              "      <td>2240.000000</td>\n",
              "      <td>2240.000000</td>\n",
              "      <td>2240.000000</td>\n",
              "      <td>2240.000000</td>\n",
              "      <td>2240.000000</td>\n",
              "      <td>2240.000000</td>\n",
              "      <td>2240.000000</td>\n",
              "      <td>2240.000000</td>\n",
              "      <td>2240.000000</td>\n",
              "      <td>2240.000000</td>\n",
              "      <td>2240.000000</td>\n",
              "      <td>2240.000000</td>\n",
              "      <td>2240.000000</td>\n",
              "      <td>2240.000000</td>\n",
              "      <td>2240.000000</td>\n",
              "      <td>2240.000000</td>\n",
              "      <td>2240.000000</td>\n",
              "      <td>2240.000000</td>\n",
              "      <td>2240.000000</td>\n",
              "      <td>2240.000000</td>\n",
              "      <td>2240.000000</td>\n",
              "    </tr>\n",
              "    <tr>\n",
              "      <th>mean</th>\n",
              "      <td>5592.159821</td>\n",
              "      <td>1968.805804</td>\n",
              "      <td>0.444196</td>\n",
              "      <td>0.506250</td>\n",
              "      <td>49.109375</td>\n",
              "      <td>303.935714</td>\n",
              "      <td>26.302232</td>\n",
              "      <td>166.950000</td>\n",
              "      <td>37.525446</td>\n",
              "      <td>27.062946</td>\n",
              "      <td>44.021875</td>\n",
              "      <td>2.325000</td>\n",
              "      <td>4.084821</td>\n",
              "      <td>2.662054</td>\n",
              "      <td>5.790179</td>\n",
              "      <td>5.316518</td>\n",
              "      <td>0.072768</td>\n",
              "      <td>0.074554</td>\n",
              "      <td>0.072768</td>\n",
              "      <td>0.064286</td>\n",
              "      <td>0.013393</td>\n",
              "      <td>0.149107</td>\n",
              "      <td>0.009375</td>\n",
              "    </tr>\n",
              "    <tr>\n",
              "      <th>std</th>\n",
              "      <td>3246.662198</td>\n",
              "      <td>11.984069</td>\n",
              "      <td>0.538398</td>\n",
              "      <td>0.544538</td>\n",
              "      <td>28.962453</td>\n",
              "      <td>336.597393</td>\n",
              "      <td>39.773434</td>\n",
              "      <td>225.715373</td>\n",
              "      <td>54.628979</td>\n",
              "      <td>41.280498</td>\n",
              "      <td>52.167439</td>\n",
              "      <td>1.932238</td>\n",
              "      <td>2.778714</td>\n",
              "      <td>2.923101</td>\n",
              "      <td>3.250958</td>\n",
              "      <td>2.426645</td>\n",
              "      <td>0.259813</td>\n",
              "      <td>0.262728</td>\n",
              "      <td>0.259813</td>\n",
              "      <td>0.245316</td>\n",
              "      <td>0.114976</td>\n",
              "      <td>0.356274</td>\n",
              "      <td>0.096391</td>\n",
              "    </tr>\n",
              "    <tr>\n",
              "      <th>min</th>\n",
              "      <td>0.000000</td>\n",
              "      <td>1893.000000</td>\n",
              "      <td>0.000000</td>\n",
              "      <td>0.000000</td>\n",
              "      <td>0.000000</td>\n",
              "      <td>0.000000</td>\n",
              "      <td>0.000000</td>\n",
              "      <td>0.000000</td>\n",
              "      <td>0.000000</td>\n",
              "      <td>0.000000</td>\n",
              "      <td>0.000000</td>\n",
              "      <td>0.000000</td>\n",
              "      <td>0.000000</td>\n",
              "      <td>0.000000</td>\n",
              "      <td>0.000000</td>\n",
              "      <td>0.000000</td>\n",
              "      <td>0.000000</td>\n",
              "      <td>0.000000</td>\n",
              "      <td>0.000000</td>\n",
              "      <td>0.000000</td>\n",
              "      <td>0.000000</td>\n",
              "      <td>0.000000</td>\n",
              "      <td>0.000000</td>\n",
              "    </tr>\n",
              "    <tr>\n",
              "      <th>25%</th>\n",
              "      <td>2828.250000</td>\n",
              "      <td>1959.000000</td>\n",
              "      <td>0.000000</td>\n",
              "      <td>0.000000</td>\n",
              "      <td>24.000000</td>\n",
              "      <td>23.750000</td>\n",
              "      <td>1.000000</td>\n",
              "      <td>16.000000</td>\n",
              "      <td>3.000000</td>\n",
              "      <td>1.000000</td>\n",
              "      <td>9.000000</td>\n",
              "      <td>1.000000</td>\n",
              "      <td>2.000000</td>\n",
              "      <td>0.000000</td>\n",
              "      <td>3.000000</td>\n",
              "      <td>3.000000</td>\n",
              "      <td>0.000000</td>\n",
              "      <td>0.000000</td>\n",
              "      <td>0.000000</td>\n",
              "      <td>0.000000</td>\n",
              "      <td>0.000000</td>\n",
              "      <td>0.000000</td>\n",
              "      <td>0.000000</td>\n",
              "    </tr>\n",
              "    <tr>\n",
              "      <th>50%</th>\n",
              "      <td>5458.500000</td>\n",
              "      <td>1970.000000</td>\n",
              "      <td>0.000000</td>\n",
              "      <td>0.000000</td>\n",
              "      <td>49.000000</td>\n",
              "      <td>173.500000</td>\n",
              "      <td>8.000000</td>\n",
              "      <td>67.000000</td>\n",
              "      <td>12.000000</td>\n",
              "      <td>8.000000</td>\n",
              "      <td>24.000000</td>\n",
              "      <td>2.000000</td>\n",
              "      <td>4.000000</td>\n",
              "      <td>2.000000</td>\n",
              "      <td>5.000000</td>\n",
              "      <td>6.000000</td>\n",
              "      <td>0.000000</td>\n",
              "      <td>0.000000</td>\n",
              "      <td>0.000000</td>\n",
              "      <td>0.000000</td>\n",
              "      <td>0.000000</td>\n",
              "      <td>0.000000</td>\n",
              "      <td>0.000000</td>\n",
              "    </tr>\n",
              "    <tr>\n",
              "      <th>75%</th>\n",
              "      <td>8427.750000</td>\n",
              "      <td>1977.000000</td>\n",
              "      <td>1.000000</td>\n",
              "      <td>1.000000</td>\n",
              "      <td>74.000000</td>\n",
              "      <td>504.250000</td>\n",
              "      <td>33.000000</td>\n",
              "      <td>232.000000</td>\n",
              "      <td>50.000000</td>\n",
              "      <td>33.000000</td>\n",
              "      <td>56.000000</td>\n",
              "      <td>3.000000</td>\n",
              "      <td>6.000000</td>\n",
              "      <td>4.000000</td>\n",
              "      <td>8.000000</td>\n",
              "      <td>7.000000</td>\n",
              "      <td>0.000000</td>\n",
              "      <td>0.000000</td>\n",
              "      <td>0.000000</td>\n",
              "      <td>0.000000</td>\n",
              "      <td>0.000000</td>\n",
              "      <td>0.000000</td>\n",
              "      <td>0.000000</td>\n",
              "    </tr>\n",
              "    <tr>\n",
              "      <th>max</th>\n",
              "      <td>11191.000000</td>\n",
              "      <td>1996.000000</td>\n",
              "      <td>2.000000</td>\n",
              "      <td>2.000000</td>\n",
              "      <td>99.000000</td>\n",
              "      <td>1493.000000</td>\n",
              "      <td>199.000000</td>\n",
              "      <td>1725.000000</td>\n",
              "      <td>259.000000</td>\n",
              "      <td>263.000000</td>\n",
              "      <td>362.000000</td>\n",
              "      <td>15.000000</td>\n",
              "      <td>27.000000</td>\n",
              "      <td>28.000000</td>\n",
              "      <td>13.000000</td>\n",
              "      <td>20.000000</td>\n",
              "      <td>1.000000</td>\n",
              "      <td>1.000000</td>\n",
              "      <td>1.000000</td>\n",
              "      <td>1.000000</td>\n",
              "      <td>1.000000</td>\n",
              "      <td>1.000000</td>\n",
              "      <td>1.000000</td>\n",
              "    </tr>\n",
              "  </tbody>\n",
              "</table>\n",
              "</div>"
            ],
            "text/plain": [
              "                 ID   Year_Birth  ...     Response     Complain\n",
              "count   2240.000000  2240.000000  ...  2240.000000  2240.000000\n",
              "mean    5592.159821  1968.805804  ...     0.149107     0.009375\n",
              "std     3246.662198    11.984069  ...     0.356274     0.096391\n",
              "min        0.000000  1893.000000  ...     0.000000     0.000000\n",
              "25%     2828.250000  1959.000000  ...     0.000000     0.000000\n",
              "50%     5458.500000  1970.000000  ...     0.000000     0.000000\n",
              "75%     8427.750000  1977.000000  ...     0.000000     0.000000\n",
              "max    11191.000000  1996.000000  ...     1.000000     1.000000\n",
              "\n",
              "[8 rows x 23 columns]"
            ]
          },
          "metadata": {
            "tags": []
          },
          "execution_count": 10
        }
      ]
    },
    {
      "cell_type": "markdown",
      "metadata": {
        "id": "pCPu6CBODd42"
      },
      "source": [
        "# 1. Is there any variable that could be transformed?"
      ]
    },
    {
      "cell_type": "markdown",
      "metadata": {
        "id": "Lm0pAe8kDNFr"
      },
      "source": [
        "Data type conversion"
      ]
    },
    {
      "cell_type": "code",
      "metadata": {
        "id": "FtGRV7AXKEFY"
      },
      "source": [
        "#convert into datetime datatype\r\n",
        "data['Dt_Customer']=pd.to_datetime(data['Dt_Customer'])"
      ],
      "execution_count": 80,
      "outputs": []
    },
    {
      "cell_type": "markdown",
      "metadata": {
        "id": "msfLoFCxDVCa"
      },
      "source": [
        "Removing white space"
      ]
    },
    {
      "cell_type": "code",
      "metadata": {
        "id": "MSp8cVo7Obqx"
      },
      "source": [
        "#clean up column names that contain whitespace\r\n",
        "data.columns = data.columns.str.replace(' ', '')"
      ],
      "execution_count": 81,
      "outputs": []
    },
    {
      "cell_type": "markdown",
      "metadata": {
        "id": "--KRyys3DXAI"
      },
      "source": [
        "Data Transformation"
      ]
    },
    {
      "cell_type": "code",
      "metadata": {
        "id": "R7bk_EdOOw75"
      },
      "source": [
        "#transform Income column to a numerical\r\n",
        "data['Income'] = data['Income'].str.replace('$', '')\r\n",
        "data['Income'] = data['Income'].str.replace(',', '').astype('float')"
      ],
      "execution_count": 82,
      "outputs": []
    },
    {
      "cell_type": "code",
      "metadata": {
        "colab": {
          "base_uri": "https://localhost:8080/"
        },
        "id": "b6LBEKr-KaT6",
        "outputId": "196d6b31-9525-4df9-80c1-12913975ea90"
      },
      "source": [
        "data.dtypes"
      ],
      "execution_count": null,
      "outputs": [
        {
          "output_type": "execute_result",
          "data": {
            "text/plain": [
              "ID                              int64\n",
              "Year_Birth                      int64\n",
              "Education                      object\n",
              "Marital_Status                 object\n",
              "Income                        float64\n",
              "Kidhome                         int64\n",
              "Teenhome                        int64\n",
              "Dt_Customer            datetime64[ns]\n",
              "Recency                         int64\n",
              "MntWines                        int64\n",
              "MntFruits                       int64\n",
              "MntMeatProducts                 int64\n",
              "MntFishProducts                 int64\n",
              "MntSweetProducts                int64\n",
              "MntGoldProds                    int64\n",
              "NumDealsPurchases               int64\n",
              "NumWebPurchases                 int64\n",
              "NumCatalogPurchases             int64\n",
              "NumStorePurchases               int64\n",
              "NumWebVisitsMonth               int64\n",
              "AcceptedCmp3                    int64\n",
              "AcceptedCmp4                    int64\n",
              "AcceptedCmp5                    int64\n",
              "AcceptedCmp1                    int64\n",
              "AcceptedCmp2                    int64\n",
              "Response                        int64\n",
              "Complain                        int64\n",
              "Country                        object\n",
              "dtype: object"
            ]
          },
          "metadata": {
            "tags": []
          },
          "execution_count": 26
        }
      ]
    },
    {
      "cell_type": "code",
      "metadata": {
        "colab": {
          "base_uri": "https://localhost:8080/"
        },
        "id": "wCexk-31PDFd",
        "outputId": "9d3a99ac-6334-4ef3-ba48-7dd4e64f578b"
      },
      "source": [
        "data.Income"
      ],
      "execution_count": null,
      "outputs": [
        {
          "output_type": "execute_result",
          "data": {
            "text/plain": [
              "0       84835.0\n",
              "1       57091.0\n",
              "2       67267.0\n",
              "3       32474.0\n",
              "4       21474.0\n",
              "         ...   \n",
              "2235    66476.0\n",
              "2236    31056.0\n",
              "2237    46310.0\n",
              "2238    65819.0\n",
              "2239    94871.0\n",
              "Name: Income, Length: 2240, dtype: float64"
            ]
          },
          "metadata": {
            "tags": []
          },
          "execution_count": 27
        }
      ]
    },
    {
      "cell_type": "code",
      "metadata": {
        "colab": {
          "base_uri": "https://localhost:8080/"
        },
        "id": "4-lZwMfeKgw9",
        "outputId": "962ba576-7dae-4d7c-dca5-b8755af83b41"
      },
      "source": [
        "data.Dt_Customer"
      ],
      "execution_count": null,
      "outputs": [
        {
          "output_type": "execute_result",
          "data": {
            "text/plain": [
              "0      2014-06-16\n",
              "1      2014-06-15\n",
              "2      2014-05-13\n",
              "3      2014-05-11\n",
              "4      2014-04-08\n",
              "          ...    \n",
              "2235   2013-03-07\n",
              "2236   2013-01-22\n",
              "2237   2012-12-03\n",
              "2238   2012-11-29\n",
              "2239   2012-09-01\n",
              "Name: Dt_Customer, Length: 2240, dtype: datetime64[ns]"
            ]
          },
          "metadata": {
            "tags": []
          },
          "execution_count": 28
        }
      ]
    },
    {
      "cell_type": "markdown",
      "metadata": {
        "id": "6PYhZkC-Cqqe"
      },
      "source": [
        "# 2. Is there any null value? How to remove them?"
      ]
    },
    {
      "cell_type": "code",
      "metadata": {
        "id": "vYmLsEeCPeMD"
      },
      "source": [
        "#Remove null values\r\n",
        "data['Income'] = data['Income'].fillna(data['Income'].mean())"
      ],
      "execution_count": 83,
      "outputs": []
    },
    {
      "cell_type": "code",
      "metadata": {
        "colab": {
          "base_uri": "https://localhost:8080/"
        },
        "id": "PYzCsLDITuKa",
        "outputId": "6b7a6df0-4d49-428a-edcf-54335a9b55b1"
      },
      "source": [
        "#Check if there are any errors left\r\n",
        "data.isnull().sum()"
      ],
      "execution_count": null,
      "outputs": [
        {
          "output_type": "execute_result",
          "data": {
            "text/plain": [
              "ID                     0\n",
              "Year_Birth             0\n",
              "Education              0\n",
              "Marital_Status         0\n",
              "Income                 0\n",
              "Kidhome                0\n",
              "Teenhome               0\n",
              "Dt_Customer            0\n",
              "Recency                0\n",
              "MntWines               0\n",
              "MntFruits              0\n",
              "MntMeatProducts        0\n",
              "MntFishProducts        0\n",
              "MntSweetProducts       0\n",
              "MntGoldProds           0\n",
              "NumDealsPurchases      0\n",
              "NumWebPurchases        0\n",
              "NumCatalogPurchases    0\n",
              "NumStorePurchases      0\n",
              "NumWebVisitsMonth      0\n",
              "AcceptedCmp3           0\n",
              "AcceptedCmp4           0\n",
              "AcceptedCmp5           0\n",
              "AcceptedCmp1           0\n",
              "AcceptedCmp2           0\n",
              "Response               0\n",
              "Complain               0\n",
              "Country                0\n",
              "dtype: int64"
            ]
          },
          "metadata": {
            "tags": []
          },
          "execution_count": 30
        }
      ]
    },
    {
      "cell_type": "markdown",
      "metadata": {
        "id": "ONuhBIVKDnKu"
      },
      "source": [
        "# 3. Is there any scope to generate new data from the given data?"
      ]
    },
    {
      "cell_type": "code",
      "metadata": {
        "id": "S1l4Ct_uIgIP"
      },
      "source": [
        "#Club kids and teens together in children column\r\n",
        "data[\"Children\"] = data[\"Kidhome\"] + data[\"Teenhome\"]"
      ],
      "execution_count": 84,
      "outputs": []
    },
    {
      "cell_type": "code",
      "metadata": {
        "colab": {
          "base_uri": "https://localhost:8080/"
        },
        "id": "uwn78Fd2JI6w",
        "outputId": "b0ec3caa-87a3-49b8-f355-d93c02af61ce"
      },
      "source": [
        "data.Children"
      ],
      "execution_count": null,
      "outputs": [
        {
          "output_type": "execute_result",
          "data": {
            "text/plain": [
              "0       0\n",
              "1       0\n",
              "2       1\n",
              "3       2\n",
              "4       1\n",
              "       ..\n",
              "2235    1\n",
              "2236    1\n",
              "2237    1\n",
              "2238    0\n",
              "2239    2\n",
              "Name: Children, Length: 2240, dtype: int64"
            ]
          },
          "metadata": {
            "tags": []
          },
          "execution_count": 32
        }
      ]
    },
    {
      "cell_type": "code",
      "metadata": {
        "id": "Zxr9RGOZJh31"
      },
      "source": [
        "#Club purchase data together\r\n",
        "data[\"Purchased\"]=data[\"NumDealsPurchases\"]+data[\"NumWebPurchases\"]+data[\"NumCatalogPurchases\"]+data[\"NumStorePurchases\"]"
      ],
      "execution_count": 85,
      "outputs": []
    },
    {
      "cell_type": "code",
      "metadata": {
        "id": "zAkRzTBZuF9f"
      },
      "source": [
        "#Age of a customer\r\n",
        "data['Customer_Age'] = data['Dt_Customer'].dt.year - data['Year_Birth']"
      ],
      "execution_count": 86,
      "outputs": []
    },
    {
      "cell_type": "code",
      "metadata": {
        "colab": {
          "base_uri": "https://localhost:8080/"
        },
        "id": "aZ1MCs5-IRIL",
        "outputId": "8e881137-2b44-41ba-fe88-fd34b172c9a1"
      },
      "source": [
        "data.Customer_Age"
      ],
      "execution_count": null,
      "outputs": [
        {
          "output_type": "execute_result",
          "data": {
            "text/plain": [
              "0       44\n",
              "1       53\n",
              "2       56\n",
              "3       47\n",
              "4       25\n",
              "        ..\n",
              "2235    37\n",
              "2236    36\n",
              "2237    36\n",
              "2238    34\n",
              "2239    43\n",
              "Name: Customer_Age, Length: 2240, dtype: int64"
            ]
          },
          "metadata": {
            "tags": []
          },
          "execution_count": 35
        }
      ]
    },
    {
      "cell_type": "code",
      "metadata": {
        "colab": {
          "base_uri": "https://localhost:8080/",
          "height": 669
        },
        "id": "mR08dmTTq3PM",
        "outputId": "e458c1c4-f917-4b57-d7de-e52a9bdc0f44"
      },
      "source": [
        "# Total Amount Spent\r\n",
        "mnt_cols = [col for col in data.columns if 'Mnt' in col]\r\n",
        "data['TotalMnt'] = data[mnt_cols].sum(axis=1)\r\n",
        "\r\n",
        "# Total Purchases\r\n",
        "purchases_cols = [col for col in data.columns if 'Purchases' in col]\r\n",
        "data['TotalPurchases'] = data[purchases_cols].sum(axis=1)\r\n",
        "\r\n",
        "# Total Campaigns Accepted\r\n",
        "campaigns_cols = [col for col in data.columns if 'Cmp' in col] + ['Response'] # 'Response' is for the latest campaign\r\n",
        "data['TotalCampaignsAcc'] = data[campaigns_cols].sum(axis=1)\r\n",
        "\r\n",
        "# view new features, by customer ID\r\n",
        "data[['ID', 'Children', 'TotalMnt', 'TotalPurchases', 'TotalCampaignsAcc']].head(20)"
      ],
      "execution_count": 87,
      "outputs": [
        {
          "output_type": "execute_result",
          "data": {
            "text/html": [
              "<div>\n",
              "<style scoped>\n",
              "    .dataframe tbody tr th:only-of-type {\n",
              "        vertical-align: middle;\n",
              "    }\n",
              "\n",
              "    .dataframe tbody tr th {\n",
              "        vertical-align: top;\n",
              "    }\n",
              "\n",
              "    .dataframe thead th {\n",
              "        text-align: right;\n",
              "    }\n",
              "</style>\n",
              "<table border=\"1\" class=\"dataframe\">\n",
              "  <thead>\n",
              "    <tr style=\"text-align: right;\">\n",
              "      <th></th>\n",
              "      <th>ID</th>\n",
              "      <th>Children</th>\n",
              "      <th>TotalMnt</th>\n",
              "      <th>TotalPurchases</th>\n",
              "      <th>TotalCampaignsAcc</th>\n",
              "    </tr>\n",
              "  </thead>\n",
              "  <tbody>\n",
              "    <tr>\n",
              "      <th>0</th>\n",
              "      <td>1826</td>\n",
              "      <td>0</td>\n",
              "      <td>1190</td>\n",
              "      <td>15</td>\n",
              "      <td>1</td>\n",
              "    </tr>\n",
              "    <tr>\n",
              "      <th>1</th>\n",
              "      <td>1</td>\n",
              "      <td>0</td>\n",
              "      <td>577</td>\n",
              "      <td>18</td>\n",
              "      <td>2</td>\n",
              "    </tr>\n",
              "    <tr>\n",
              "      <th>2</th>\n",
              "      <td>10476</td>\n",
              "      <td>1</td>\n",
              "      <td>251</td>\n",
              "      <td>11</td>\n",
              "      <td>0</td>\n",
              "    </tr>\n",
              "    <tr>\n",
              "      <th>3</th>\n",
              "      <td>1386</td>\n",
              "      <td>2</td>\n",
              "      <td>11</td>\n",
              "      <td>4</td>\n",
              "      <td>0</td>\n",
              "    </tr>\n",
              "    <tr>\n",
              "      <th>4</th>\n",
              "      <td>5371</td>\n",
              "      <td>1</td>\n",
              "      <td>91</td>\n",
              "      <td>8</td>\n",
              "      <td>2</td>\n",
              "    </tr>\n",
              "    <tr>\n",
              "      <th>5</th>\n",
              "      <td>7348</td>\n",
              "      <td>0</td>\n",
              "      <td>1192</td>\n",
              "      <td>17</td>\n",
              "      <td>1</td>\n",
              "    </tr>\n",
              "    <tr>\n",
              "      <th>6</th>\n",
              "      <td>4073</td>\n",
              "      <td>0</td>\n",
              "      <td>1215</td>\n",
              "      <td>28</td>\n",
              "      <td>2</td>\n",
              "    </tr>\n",
              "    <tr>\n",
              "      <th>7</th>\n",
              "      <td>1991</td>\n",
              "      <td>1</td>\n",
              "      <td>96</td>\n",
              "      <td>7</td>\n",
              "      <td>0</td>\n",
              "    </tr>\n",
              "    <tr>\n",
              "      <th>8</th>\n",
              "      <td>4047</td>\n",
              "      <td>1</td>\n",
              "      <td>544</td>\n",
              "      <td>20</td>\n",
              "      <td>0</td>\n",
              "    </tr>\n",
              "    <tr>\n",
              "      <th>9</th>\n",
              "      <td>9477</td>\n",
              "      <td>1</td>\n",
              "      <td>544</td>\n",
              "      <td>20</td>\n",
              "      <td>0</td>\n",
              "    </tr>\n",
              "    <tr>\n",
              "      <th>10</th>\n",
              "      <td>2079</td>\n",
              "      <td>0</td>\n",
              "      <td>1208</td>\n",
              "      <td>22</td>\n",
              "      <td>0</td>\n",
              "    </tr>\n",
              "    <tr>\n",
              "      <th>11</th>\n",
              "      <td>5642</td>\n",
              "      <td>1</td>\n",
              "      <td>222</td>\n",
              "      <td>12</td>\n",
              "      <td>0</td>\n",
              "    </tr>\n",
              "    <tr>\n",
              "      <th>12</th>\n",
              "      <td>10530</td>\n",
              "      <td>0</td>\n",
              "      <td>1156</td>\n",
              "      <td>16</td>\n",
              "      <td>1</td>\n",
              "    </tr>\n",
              "    <tr>\n",
              "      <th>13</th>\n",
              "      <td>2964</td>\n",
              "      <td>0</td>\n",
              "      <td>72</td>\n",
              "      <td>5</td>\n",
              "      <td>0</td>\n",
              "    </tr>\n",
              "    <tr>\n",
              "      <th>14</th>\n",
              "      <td>10311</td>\n",
              "      <td>1</td>\n",
              "      <td>359</td>\n",
              "      <td>25</td>\n",
              "      <td>0</td>\n",
              "    </tr>\n",
              "    <tr>\n",
              "      <th>15</th>\n",
              "      <td>837</td>\n",
              "      <td>2</td>\n",
              "      <td>174</td>\n",
              "      <td>12</td>\n",
              "      <td>0</td>\n",
              "    </tr>\n",
              "    <tr>\n",
              "      <th>16</th>\n",
              "      <td>10521</td>\n",
              "      <td>2</td>\n",
              "      <td>174</td>\n",
              "      <td>12</td>\n",
              "      <td>1</td>\n",
              "    </tr>\n",
              "    <tr>\n",
              "      <th>17</th>\n",
              "      <td>10175</td>\n",
              "      <td>1</td>\n",
              "      <td>22</td>\n",
              "      <td>5</td>\n",
              "      <td>0</td>\n",
              "    </tr>\n",
              "    <tr>\n",
              "      <th>18</th>\n",
              "      <td>1473</td>\n",
              "      <td>1</td>\n",
              "      <td>72</td>\n",
              "      <td>7</td>\n",
              "      <td>0</td>\n",
              "    </tr>\n",
              "    <tr>\n",
              "      <th>19</th>\n",
              "      <td>2795</td>\n",
              "      <td>3</td>\n",
              "      <td>13</td>\n",
              "      <td>4</td>\n",
              "      <td>0</td>\n",
              "    </tr>\n",
              "  </tbody>\n",
              "</table>\n",
              "</div>"
            ],
            "text/plain": [
              "       ID  Children  TotalMnt  TotalPurchases  TotalCampaignsAcc\n",
              "0    1826         0      1190              15                  1\n",
              "1       1         0       577              18                  2\n",
              "2   10476         1       251              11                  0\n",
              "3    1386         2        11               4                  0\n",
              "4    5371         1        91               8                  2\n",
              "5    7348         0      1192              17                  1\n",
              "6    4073         0      1215              28                  2\n",
              "7    1991         1        96               7                  0\n",
              "8    4047         1       544              20                  0\n",
              "9    9477         1       544              20                  0\n",
              "10   2079         0      1208              22                  0\n",
              "11   5642         1       222              12                  0\n",
              "12  10530         0      1156              16                  1\n",
              "13   2964         0        72               5                  0\n",
              "14  10311         1       359              25                  0\n",
              "15    837         2       174              12                  0\n",
              "16  10521         2       174              12                  1\n",
              "17  10175         1        22               5                  0\n",
              "18   1473         1        72               7                  0\n",
              "19   2795         3        13               4                  0"
            ]
          },
          "metadata": {
            "tags": []
          },
          "execution_count": 87
        }
      ]
    },
    {
      "cell_type": "code",
      "metadata": {
        "id": "eO2xiUdjxPaL"
      },
      "source": [
        "# list of cols with binary responses\r\n",
        "binary_cols = [col for col in data.columns if 'Accepted' in col] + ['Response', 'Complain']\r\n",
        "\r\n",
        "# list of cols for spending \r\n",
        "mnt_cols = [col for col in data.columns if 'Mnt' in col]\r\n",
        "\r\n",
        "# list of cols for channels\r\n",
        "channel_cols = [col for col in data.columns if 'Num' in col] + ['TotalPurchases', 'TotalCampaignsAcc']"
      ],
      "execution_count": 88,
      "outputs": []
    },
    {
      "cell_type": "code",
      "metadata": {
        "colab": {
          "base_uri": "https://localhost:8080/",
          "height": 379
        },
        "id": "CGvs5Z5OsKq_",
        "outputId": "0e9195fa-35d2-4c9a-deb7-40467e3478d1"
      },
      "source": [
        "data.head(10)"
      ],
      "execution_count": null,
      "outputs": [
        {
          "output_type": "execute_result",
          "data": {
            "text/html": [
              "<div>\n",
              "<style scoped>\n",
              "    .dataframe tbody tr th:only-of-type {\n",
              "        vertical-align: middle;\n",
              "    }\n",
              "\n",
              "    .dataframe tbody tr th {\n",
              "        vertical-align: top;\n",
              "    }\n",
              "\n",
              "    .dataframe thead th {\n",
              "        text-align: right;\n",
              "    }\n",
              "</style>\n",
              "<table border=\"1\" class=\"dataframe\">\n",
              "  <thead>\n",
              "    <tr style=\"text-align: right;\">\n",
              "      <th></th>\n",
              "      <th>ID</th>\n",
              "      <th>Year_Birth</th>\n",
              "      <th>Education</th>\n",
              "      <th>Marital_Status</th>\n",
              "      <th>Income</th>\n",
              "      <th>Kidhome</th>\n",
              "      <th>Teenhome</th>\n",
              "      <th>Dt_Customer</th>\n",
              "      <th>Recency</th>\n",
              "      <th>MntWines</th>\n",
              "      <th>MntFruits</th>\n",
              "      <th>MntMeatProducts</th>\n",
              "      <th>MntFishProducts</th>\n",
              "      <th>MntSweetProducts</th>\n",
              "      <th>MntGoldProds</th>\n",
              "      <th>NumDealsPurchases</th>\n",
              "      <th>NumWebPurchases</th>\n",
              "      <th>NumCatalogPurchases</th>\n",
              "      <th>NumStorePurchases</th>\n",
              "      <th>NumWebVisitsMonth</th>\n",
              "      <th>AcceptedCmp3</th>\n",
              "      <th>AcceptedCmp4</th>\n",
              "      <th>AcceptedCmp5</th>\n",
              "      <th>AcceptedCmp1</th>\n",
              "      <th>AcceptedCmp2</th>\n",
              "      <th>Response</th>\n",
              "      <th>Complain</th>\n",
              "      <th>Country</th>\n",
              "      <th>Children</th>\n",
              "      <th>Purchased</th>\n",
              "      <th>Customer_Age</th>\n",
              "      <th>TotalMnt</th>\n",
              "      <th>TotalPurchases</th>\n",
              "      <th>TotalCampaignsAcc</th>\n",
              "    </tr>\n",
              "  </thead>\n",
              "  <tbody>\n",
              "    <tr>\n",
              "      <th>0</th>\n",
              "      <td>1826</td>\n",
              "      <td>1970</td>\n",
              "      <td>Graduation</td>\n",
              "      <td>Divorced</td>\n",
              "      <td>84835.0</td>\n",
              "      <td>0</td>\n",
              "      <td>0</td>\n",
              "      <td>2014-06-16</td>\n",
              "      <td>0</td>\n",
              "      <td>189</td>\n",
              "      <td>104</td>\n",
              "      <td>379</td>\n",
              "      <td>111</td>\n",
              "      <td>189</td>\n",
              "      <td>218</td>\n",
              "      <td>1</td>\n",
              "      <td>4</td>\n",
              "      <td>4</td>\n",
              "      <td>6</td>\n",
              "      <td>1</td>\n",
              "      <td>0</td>\n",
              "      <td>0</td>\n",
              "      <td>0</td>\n",
              "      <td>0</td>\n",
              "      <td>0</td>\n",
              "      <td>1</td>\n",
              "      <td>0</td>\n",
              "      <td>SP</td>\n",
              "      <td>0</td>\n",
              "      <td>15</td>\n",
              "      <td>44</td>\n",
              "      <td>1190</td>\n",
              "      <td>15</td>\n",
              "      <td>1</td>\n",
              "    </tr>\n",
              "    <tr>\n",
              "      <th>1</th>\n",
              "      <td>1</td>\n",
              "      <td>1961</td>\n",
              "      <td>Graduation</td>\n",
              "      <td>Single</td>\n",
              "      <td>57091.0</td>\n",
              "      <td>0</td>\n",
              "      <td>0</td>\n",
              "      <td>2014-06-15</td>\n",
              "      <td>0</td>\n",
              "      <td>464</td>\n",
              "      <td>5</td>\n",
              "      <td>64</td>\n",
              "      <td>7</td>\n",
              "      <td>0</td>\n",
              "      <td>37</td>\n",
              "      <td>1</td>\n",
              "      <td>7</td>\n",
              "      <td>3</td>\n",
              "      <td>7</td>\n",
              "      <td>5</td>\n",
              "      <td>0</td>\n",
              "      <td>0</td>\n",
              "      <td>0</td>\n",
              "      <td>0</td>\n",
              "      <td>1</td>\n",
              "      <td>1</td>\n",
              "      <td>0</td>\n",
              "      <td>CA</td>\n",
              "      <td>0</td>\n",
              "      <td>18</td>\n",
              "      <td>53</td>\n",
              "      <td>577</td>\n",
              "      <td>18</td>\n",
              "      <td>2</td>\n",
              "    </tr>\n",
              "    <tr>\n",
              "      <th>2</th>\n",
              "      <td>10476</td>\n",
              "      <td>1958</td>\n",
              "      <td>Graduation</td>\n",
              "      <td>Married</td>\n",
              "      <td>67267.0</td>\n",
              "      <td>0</td>\n",
              "      <td>1</td>\n",
              "      <td>2014-05-13</td>\n",
              "      <td>0</td>\n",
              "      <td>134</td>\n",
              "      <td>11</td>\n",
              "      <td>59</td>\n",
              "      <td>15</td>\n",
              "      <td>2</td>\n",
              "      <td>30</td>\n",
              "      <td>1</td>\n",
              "      <td>3</td>\n",
              "      <td>2</td>\n",
              "      <td>5</td>\n",
              "      <td>2</td>\n",
              "      <td>0</td>\n",
              "      <td>0</td>\n",
              "      <td>0</td>\n",
              "      <td>0</td>\n",
              "      <td>0</td>\n",
              "      <td>0</td>\n",
              "      <td>0</td>\n",
              "      <td>US</td>\n",
              "      <td>1</td>\n",
              "      <td>11</td>\n",
              "      <td>56</td>\n",
              "      <td>251</td>\n",
              "      <td>11</td>\n",
              "      <td>0</td>\n",
              "    </tr>\n",
              "    <tr>\n",
              "      <th>3</th>\n",
              "      <td>1386</td>\n",
              "      <td>1967</td>\n",
              "      <td>Graduation</td>\n",
              "      <td>Together</td>\n",
              "      <td>32474.0</td>\n",
              "      <td>1</td>\n",
              "      <td>1</td>\n",
              "      <td>2014-05-11</td>\n",
              "      <td>0</td>\n",
              "      <td>10</td>\n",
              "      <td>0</td>\n",
              "      <td>1</td>\n",
              "      <td>0</td>\n",
              "      <td>0</td>\n",
              "      <td>0</td>\n",
              "      <td>1</td>\n",
              "      <td>1</td>\n",
              "      <td>0</td>\n",
              "      <td>2</td>\n",
              "      <td>7</td>\n",
              "      <td>0</td>\n",
              "      <td>0</td>\n",
              "      <td>0</td>\n",
              "      <td>0</td>\n",
              "      <td>0</td>\n",
              "      <td>0</td>\n",
              "      <td>0</td>\n",
              "      <td>AUS</td>\n",
              "      <td>2</td>\n",
              "      <td>4</td>\n",
              "      <td>47</td>\n",
              "      <td>11</td>\n",
              "      <td>4</td>\n",
              "      <td>0</td>\n",
              "    </tr>\n",
              "    <tr>\n",
              "      <th>4</th>\n",
              "      <td>5371</td>\n",
              "      <td>1989</td>\n",
              "      <td>Graduation</td>\n",
              "      <td>Single</td>\n",
              "      <td>21474.0</td>\n",
              "      <td>1</td>\n",
              "      <td>0</td>\n",
              "      <td>2014-04-08</td>\n",
              "      <td>0</td>\n",
              "      <td>6</td>\n",
              "      <td>16</td>\n",
              "      <td>24</td>\n",
              "      <td>11</td>\n",
              "      <td>0</td>\n",
              "      <td>34</td>\n",
              "      <td>2</td>\n",
              "      <td>3</td>\n",
              "      <td>1</td>\n",
              "      <td>2</td>\n",
              "      <td>7</td>\n",
              "      <td>1</td>\n",
              "      <td>0</td>\n",
              "      <td>0</td>\n",
              "      <td>0</td>\n",
              "      <td>0</td>\n",
              "      <td>1</td>\n",
              "      <td>0</td>\n",
              "      <td>SP</td>\n",
              "      <td>1</td>\n",
              "      <td>8</td>\n",
              "      <td>25</td>\n",
              "      <td>91</td>\n",
              "      <td>8</td>\n",
              "      <td>2</td>\n",
              "    </tr>\n",
              "    <tr>\n",
              "      <th>5</th>\n",
              "      <td>7348</td>\n",
              "      <td>1958</td>\n",
              "      <td>PhD</td>\n",
              "      <td>Single</td>\n",
              "      <td>71691.0</td>\n",
              "      <td>0</td>\n",
              "      <td>0</td>\n",
              "      <td>2014-03-17</td>\n",
              "      <td>0</td>\n",
              "      <td>336</td>\n",
              "      <td>130</td>\n",
              "      <td>411</td>\n",
              "      <td>240</td>\n",
              "      <td>32</td>\n",
              "      <td>43</td>\n",
              "      <td>1</td>\n",
              "      <td>4</td>\n",
              "      <td>7</td>\n",
              "      <td>5</td>\n",
              "      <td>2</td>\n",
              "      <td>0</td>\n",
              "      <td>0</td>\n",
              "      <td>0</td>\n",
              "      <td>0</td>\n",
              "      <td>0</td>\n",
              "      <td>1</td>\n",
              "      <td>0</td>\n",
              "      <td>SP</td>\n",
              "      <td>0</td>\n",
              "      <td>17</td>\n",
              "      <td>56</td>\n",
              "      <td>1192</td>\n",
              "      <td>17</td>\n",
              "      <td>1</td>\n",
              "    </tr>\n",
              "    <tr>\n",
              "      <th>6</th>\n",
              "      <td>4073</td>\n",
              "      <td>1954</td>\n",
              "      <td>2n Cycle</td>\n",
              "      <td>Married</td>\n",
              "      <td>63564.0</td>\n",
              "      <td>0</td>\n",
              "      <td>0</td>\n",
              "      <td>2014-01-29</td>\n",
              "      <td>0</td>\n",
              "      <td>769</td>\n",
              "      <td>80</td>\n",
              "      <td>252</td>\n",
              "      <td>15</td>\n",
              "      <td>34</td>\n",
              "      <td>65</td>\n",
              "      <td>1</td>\n",
              "      <td>10</td>\n",
              "      <td>10</td>\n",
              "      <td>7</td>\n",
              "      <td>6</td>\n",
              "      <td>1</td>\n",
              "      <td>0</td>\n",
              "      <td>0</td>\n",
              "      <td>0</td>\n",
              "      <td>0</td>\n",
              "      <td>1</td>\n",
              "      <td>0</td>\n",
              "      <td>GER</td>\n",
              "      <td>0</td>\n",
              "      <td>28</td>\n",
              "      <td>60</td>\n",
              "      <td>1215</td>\n",
              "      <td>28</td>\n",
              "      <td>2</td>\n",
              "    </tr>\n",
              "    <tr>\n",
              "      <th>7</th>\n",
              "      <td>1991</td>\n",
              "      <td>1967</td>\n",
              "      <td>Graduation</td>\n",
              "      <td>Together</td>\n",
              "      <td>44931.0</td>\n",
              "      <td>0</td>\n",
              "      <td>1</td>\n",
              "      <td>2014-01-18</td>\n",
              "      <td>0</td>\n",
              "      <td>78</td>\n",
              "      <td>0</td>\n",
              "      <td>11</td>\n",
              "      <td>0</td>\n",
              "      <td>0</td>\n",
              "      <td>7</td>\n",
              "      <td>1</td>\n",
              "      <td>2</td>\n",
              "      <td>1</td>\n",
              "      <td>3</td>\n",
              "      <td>5</td>\n",
              "      <td>0</td>\n",
              "      <td>0</td>\n",
              "      <td>0</td>\n",
              "      <td>0</td>\n",
              "      <td>0</td>\n",
              "      <td>0</td>\n",
              "      <td>0</td>\n",
              "      <td>SP</td>\n",
              "      <td>1</td>\n",
              "      <td>7</td>\n",
              "      <td>47</td>\n",
              "      <td>96</td>\n",
              "      <td>7</td>\n",
              "      <td>0</td>\n",
              "    </tr>\n",
              "    <tr>\n",
              "      <th>8</th>\n",
              "      <td>4047</td>\n",
              "      <td>1954</td>\n",
              "      <td>PhD</td>\n",
              "      <td>Married</td>\n",
              "      <td>65324.0</td>\n",
              "      <td>0</td>\n",
              "      <td>1</td>\n",
              "      <td>2014-01-11</td>\n",
              "      <td>0</td>\n",
              "      <td>384</td>\n",
              "      <td>0</td>\n",
              "      <td>102</td>\n",
              "      <td>21</td>\n",
              "      <td>32</td>\n",
              "      <td>5</td>\n",
              "      <td>3</td>\n",
              "      <td>6</td>\n",
              "      <td>2</td>\n",
              "      <td>9</td>\n",
              "      <td>4</td>\n",
              "      <td>0</td>\n",
              "      <td>0</td>\n",
              "      <td>0</td>\n",
              "      <td>0</td>\n",
              "      <td>0</td>\n",
              "      <td>0</td>\n",
              "      <td>0</td>\n",
              "      <td>US</td>\n",
              "      <td>1</td>\n",
              "      <td>20</td>\n",
              "      <td>60</td>\n",
              "      <td>544</td>\n",
              "      <td>20</td>\n",
              "      <td>0</td>\n",
              "    </tr>\n",
              "    <tr>\n",
              "      <th>9</th>\n",
              "      <td>9477</td>\n",
              "      <td>1954</td>\n",
              "      <td>PhD</td>\n",
              "      <td>Married</td>\n",
              "      <td>65324.0</td>\n",
              "      <td>0</td>\n",
              "      <td>1</td>\n",
              "      <td>2014-01-11</td>\n",
              "      <td>0</td>\n",
              "      <td>384</td>\n",
              "      <td>0</td>\n",
              "      <td>102</td>\n",
              "      <td>21</td>\n",
              "      <td>32</td>\n",
              "      <td>5</td>\n",
              "      <td>3</td>\n",
              "      <td>6</td>\n",
              "      <td>2</td>\n",
              "      <td>9</td>\n",
              "      <td>4</td>\n",
              "      <td>0</td>\n",
              "      <td>0</td>\n",
              "      <td>0</td>\n",
              "      <td>0</td>\n",
              "      <td>0</td>\n",
              "      <td>0</td>\n",
              "      <td>0</td>\n",
              "      <td>IND</td>\n",
              "      <td>1</td>\n",
              "      <td>20</td>\n",
              "      <td>60</td>\n",
              "      <td>544</td>\n",
              "      <td>20</td>\n",
              "      <td>0</td>\n",
              "    </tr>\n",
              "  </tbody>\n",
              "</table>\n",
              "</div>"
            ],
            "text/plain": [
              "      ID  Year_Birth   Education  ... TotalMnt  TotalPurchases  TotalCampaignsAcc\n",
              "0   1826        1970  Graduation  ...     1190              15                  1\n",
              "1      1        1961  Graduation  ...      577              18                  2\n",
              "2  10476        1958  Graduation  ...      251              11                  0\n",
              "3   1386        1967  Graduation  ...       11               4                  0\n",
              "4   5371        1989  Graduation  ...       91               8                  2\n",
              "5   7348        1958         PhD  ...     1192              17                  1\n",
              "6   4073        1954    2n Cycle  ...     1215              28                  2\n",
              "7   1991        1967  Graduation  ...       96               7                  0\n",
              "8   4047        1954         PhD  ...      544              20                  0\n",
              "9   9477        1954         PhD  ...      544              20                  0\n",
              "\n",
              "[10 rows x 34 columns]"
            ]
          },
          "metadata": {
            "tags": []
          },
          "execution_count": 37
        }
      ]
    },
    {
      "cell_type": "code",
      "metadata": {
        "colab": {
          "base_uri": "https://localhost:8080/"
        },
        "id": "-RiDvTzHsxfC",
        "outputId": "4f2bd2b4-e195-4f53-88d9-1914d38ae7f1"
      },
      "source": [
        "data.shape"
      ],
      "execution_count": null,
      "outputs": [
        {
          "output_type": "execute_result",
          "data": {
            "text/plain": [
              "(2240, 34)"
            ]
          },
          "metadata": {
            "tags": []
          },
          "execution_count": 38
        }
      ]
    },
    {
      "cell_type": "markdown",
      "metadata": {
        "id": "iT7mTpxdFMEn"
      },
      "source": [
        "Drop columns which are no longer needed"
      ]
    },
    {
      "cell_type": "code",
      "metadata": {
        "id": "AOFcJ-ue-nyC"
      },
      "source": [
        "#drop unique ID\r\n",
        "data.drop(columns=['ID', 'Dt_Customer','Kidhome','Teenhome'], inplace=True)"
      ],
      "execution_count": 89,
      "outputs": []
    },
    {
      "cell_type": "markdown",
      "metadata": {
        "id": "jK_wQ6uwGipv"
      },
      "source": [
        "# 4. Are there any outliers?"
      ]
    },
    {
      "cell_type": "code",
      "metadata": {
        "colab": {
          "base_uri": "https://localhost:8080/",
          "height": 357
        },
        "id": "PeaTaOhxsfbg",
        "outputId": "a517fcc9-0576-4d4f-8737-27b4f6d9ca41"
      },
      "source": [
        "#graph to represent income distribution\r\n",
        "plt.figure(figsize=(8,4))\r\n",
        "sns.distplot(data['Income'], kde=False, hist=True)\r\n",
        "plt.title('Income distribution', size=16)\r\n",
        "plt.ylabel('count');"
      ],
      "execution_count": null,
      "outputs": [
        {
          "output_type": "stream",
          "text": [
            "/usr/local/lib/python3.7/dist-packages/seaborn/distributions.py:2557: FutureWarning: `distplot` is a deprecated function and will be removed in a future version. Please adapt your code to use either `displot` (a figure-level function with similar flexibility) or `histplot` (an axes-level function for histograms).\n",
            "  warnings.warn(msg, FutureWarning)\n"
          ],
          "name": "stderr"
        },
        {
          "output_type": "display_data",
          "data": {
            "image/png": "[encoded data removed]",
            "text/plain": [
              "<Figure size 576x288 with 1 Axes>"
            ]
          },
          "metadata": {
            "tags": [],
            "needs_background": "light"
          }
        }
      ]
    },
    {
      "cell_type": "code",
      "metadata": {
        "colab": {
          "base_uri": "https://localhost:8080/",
          "height": 386
        },
        "id": "HM04iHt7zWqg",
        "outputId": "38b9772e-1bcb-4400-8e7f-50dd5496cf43"
      },
      "source": [
        "sns.lmplot(x='Income', y='TotalMnt', data=data[data['Income'] < 200000]);"
      ],
      "execution_count": 61,
      "outputs": [
        {
          "output_type": "display_data",
          "data": {
            "image/png": "[encoded data removed]",
            "text/plain": [
              "<Figure size 360x360 with 1 Axes>"
            ]
          },
          "metadata": {
            "tags": [],
            "needs_background": "light"
          }
        }
      ]
    },
    {
      "cell_type": "markdown",
      "metadata": {
        "id": "Evnbu6kUFwC-"
      },
      "source": [
        "# **2. Statistical Analysis**"
      ]
    },
    {
      "cell_type": "code",
      "metadata": {
        "colab": {
          "base_uri": "https://localhost:8080/"
        },
        "id": "lmDwEI9DYpMh",
        "outputId": "d7575b3a-8de9-4454-b099-7923f2070468"
      },
      "source": [
        "data.columns"
      ],
      "execution_count": 65,
      "outputs": [
        {
          "output_type": "execute_result",
          "data": {
            "text/plain": [
              "Index(['Year_Birth', 'Education', 'Marital_Status', 'Income', 'Recency',\n",
              "       'MntWines', 'MntFruits', 'MntMeatProducts', 'MntFishProducts',\n",
              "       'MntSweetProducts', 'MntGoldProds', 'NumDealsPurchases',\n",
              "       'NumWebPurchases', 'NumCatalogPurchases', 'NumStorePurchases',\n",
              "       'NumWebVisitsMonth', 'AcceptedCmp3', 'AcceptedCmp4', 'AcceptedCmp5',\n",
              "       'AcceptedCmp1', 'AcceptedCmp2', 'Response', 'Complain', 'Country',\n",
              "       'Children', 'Purchased', 'Customer_Age', 'TotalMnt', 'TotalPurchases',\n",
              "       'TotalCampaignsAcc', 'Customer_age_grp'],\n",
              "      dtype='object')"
            ]
          },
          "metadata": {
            "tags": []
          },
          "execution_count": 65
        }
      ]
    },
    {
      "cell_type": "markdown",
      "metadata": {
        "id": "0YZnqXqEOqqm"
      },
      "source": [
        "# 1.   Is age of the customer a significant factor for number of purchase?\r\n",
        "\r\n"
      ]
    },
    {
      "cell_type": "code",
      "metadata": {
        "id": "NIbqBWgBtxGF"
      },
      "source": [
        "data['Customer_age_grp'] = pd.cut(data.Customer_Age, bins=[18,35,50,75], labels=['Youth','Middle','Old'])"
      ],
      "execution_count": 51,
      "outputs": []
    },
    {
      "cell_type": "code",
      "metadata": {
        "colab": {
          "base_uri": "https://localhost:8080/",
          "height": 525
        },
        "id": "SCDhlpj0xg6o",
        "outputId": "41db1474-6a09-4d3e-af2b-6b8cec26c5f9"
      },
      "source": [
        "plt.figure(figsize=(10,8))\r\n",
        "\r\n",
        "sns.boxplot(x='Customer_age_grp', y='TotalPurchases', data=data, palette='rainbow')\r\n",
        "plt.title('Purchases w.r.t Age', fontsize=20)\r\n",
        "plt.xlabel('Age Group',fontsize=15)\r\n",
        "plt.ylabel('Purchases',fontsize=15);"
      ],
      "execution_count": 60,
      "outputs": [
        {
          "output_type": "display_data",
          "data": {
            "image/png": "[encoded data removed]",
            "text/plain": [
              "<Figure size 720x576 with 1 Axes>"
            ]
          },
          "metadata": {
            "tags": [],
            "needs_background": "light"
          }
        }
      ]
    },
    {
      "cell_type": "code",
      "metadata": {
        "colab": {
          "base_uri": "https://localhost:8080/",
          "height": 308
        },
        "id": "dEi-N__1uMAm",
        "outputId": "09d17d35-a679-4456-8235-075b670866e9"
      },
      "source": [
        "sns.barplot(x='Customer_age_grp', y='Income', data=data, palette='rainbow')\r\n",
        "plt.title('Income of Age Groups', fontsize=20)\r\n",
        "plt.xlabel('Customer Age Group',fontsize=15)\r\n",
        "plt.ylabel('Income',fontsize=15);"
      ],
      "execution_count": 52,
      "outputs": [
        {
          "output_type": "display_data",
          "data": {
            "image/png": "[encoded data removed]",
            "text/plain": [
              "<Figure size 432x288 with 1 Axes>"
            ]
          },
          "metadata": {
            "tags": [],
            "needs_background": "light"
          }
        }
      ]
    },
    {
      "cell_type": "markdown",
      "metadata": {
        "id": "WorO0aNQO18E"
      },
      "source": [
        "# 2. Who have made the maximum purchase?\r\n",
        "\r\n",
        "\r\n"
      ]
    },
    {
      "cell_type": "code",
      "metadata": {
        "colab": {
          "base_uri": "https://localhost:8080/",
          "height": 575
        },
        "id": "3Ve6rJcN1bKq",
        "outputId": "be749d9d-572f-4a42-e9da-1a5891889cbc"
      },
      "source": [
        "purchase = data[['TotalMnt', 'Country']].groupby(['Country']).agg([sum])\r\n",
        "\r\n",
        "sns.set_palette('Spectral')\r\n",
        "plt.figure(figsize = (10, 10))\r\n",
        "plt.pie(purchase['TotalMnt']['sum'], labels = purchase.index, autopct = '%1.1f%%')\r\n",
        "plt.show()"
      ],
      "execution_count": 68,
      "outputs": [
        {
          "output_type": "display_data",
          "data": {
            "image/png": "[encoded data removed]",
            "text/plain": [
              "<Figure size 720x720 with 1 Axes>"
            ]
          },
          "metadata": {
            "tags": []
          }
        }
      ]
    },
    {
      "cell_type": "markdown",
      "metadata": {
        "id": "MTXRB2A0O_tg"
      },
      "source": [
        "# 3. Is there a significant relationship between geographical regional and Income?\r\n",
        "\r\n",
        "\r\n"
      ]
    },
    {
      "cell_type": "code",
      "metadata": {
        "colab": {
          "base_uri": "https://localhost:8080/",
          "height": 634
        },
        "id": "Cw77Y5MWyfli",
        "outputId": "cf2f83cb-0e73-49a1-a9c5-0a5f69a5d93f"
      },
      "source": [
        "plt.figure(figsize=(15,10))\r\n",
        "\r\n",
        "sns.barplot(x='Country', y='Income', hue='Customer_age_grp', data=data, palette='rainbow')\r\n",
        "plt.title('Income w.r.t Country', fontsize=20)\r\n",
        "plt.xlabel('Country',fontsize=15)\r\n",
        "plt.ylabel('Income',fontsize=15);"
      ],
      "execution_count": 59,
      "outputs": [
        {
          "output_type": "display_data",
          "data": {
            "image/png": "[encoded data removed]",
            "text/plain": [
              "<Figure size 1080x720 with 1 Axes>"
            ]
          },
          "metadata": {
            "tags": [],
            "needs_background": "light"
          }
        }
      ]
    },
    {
      "cell_type": "markdown",
      "metadata": {
        "id": "e1vA1jBbPIoY"
      },
      "source": [
        "# 4. Which countries have made the maximum and mimimum amount of purchase?\r\n",
        "\r\n",
        "\r\n"
      ]
    },
    {
      "cell_type": "code",
      "metadata": {
        "colab": {
          "base_uri": "https://localhost:8080/",
          "height": 575
        },
        "id": "KJ4FcFqM00Vf",
        "outputId": "6fabc5a9-a0ac-4a1d-fcc2-e28104a7b0cd"
      },
      "source": [
        "purchase = data[['TotalPurchases', 'Country']].groupby(['Country']).agg([sum])\r\n",
        "\r\n",
        "sns.set_palette('Spectral')\r\n",
        "plt.figure(figsize = (10, 10))\r\n",
        "plt.pie(purchase['TotalPurchases']['sum'], labels = purchase.index, autopct = '%1.1f%%')\r\n",
        "plt.show()"
      ],
      "execution_count": 64,
      "outputs": [
        {
          "output_type": "display_data",
          "data": {
            "image/png": "[encoded data removed]",
            "text/plain": [
              "<Figure size 720x720 with 1 Axes>"
            ]
          },
          "metadata": {
            "tags": []
          }
        }
      ]
    },
    {
      "cell_type": "markdown",
      "metadata": {
        "id": "XoHxnpy7zCG9"
      },
      "source": [
        "*One-Hot Encoding*"
      ]
    },
    {
      "cell_type": "code",
      "metadata": {
        "id": "4GJWY4hR6RI_",
        "colab": {
          "base_uri": "https://localhost:8080/",
          "height": 326
        },
        "outputId": "a63a60ed-e609-421b-ec88-da727bd24f09"
      },
      "source": [
        "# one-hot encoding of categorical features\r\n",
        "from sklearn.preprocessing import OneHotEncoder\r\n",
        "# get categorical features and review number of unique values\r\n",
        "cat = data.select_dtypes(exclude=np.number)\r\n",
        "print(\"Number of unique values per categorical feature:\\n\", cat.nunique())\r\n",
        "# use one hot encoder\r\n",
        "enc = OneHotEncoder(sparse=False).fit(cat)\r\n",
        "cat_encoded = pd.DataFrame(enc.transform(cat))\r\n",
        "cat_encoded.columns = enc.get_feature_names(cat.columns)\r\n",
        "# merge with numeric data\r\n",
        "num = data.drop(columns=cat.columns)\r\n",
        "data = pd.concat([cat_encoded, num], axis=1)\r\n",
        "data.head()"
      ],
      "execution_count": 90,
      "outputs": [
        {
          "output_type": "stream",
          "text": [
            "Number of unique values per categorical feature:\n",
            " Education         5\n",
            "Marital_Status    8\n",
            "Country           8\n",
            "dtype: int64\n"
          ],
          "name": "stdout"
        },
        {
          "output_type": "execute_result",
          "data": {
            "text/html": [
              "<div>\n",
              "<style scoped>\n",
              "    .dataframe tbody tr th:only-of-type {\n",
              "        vertical-align: middle;\n",
              "    }\n",
              "\n",
              "    .dataframe tbody tr th {\n",
              "        vertical-align: top;\n",
              "    }\n",
              "\n",
              "    .dataframe thead th {\n",
              "        text-align: right;\n",
              "    }\n",
              "</style>\n",
              "<table border=\"1\" class=\"dataframe\">\n",
              "  <thead>\n",
              "    <tr style=\"text-align: right;\">\n",
              "      <th></th>\n",
              "      <th>Education_2n Cycle</th>\n",
              "      <th>Education_Basic</th>\n",
              "      <th>Education_Graduation</th>\n",
              "      <th>Education_Master</th>\n",
              "      <th>Education_PhD</th>\n",
              "      <th>Marital_Status_Absurd</th>\n",
              "      <th>Marital_Status_Alone</th>\n",
              "      <th>Marital_Status_Divorced</th>\n",
              "      <th>Marital_Status_Married</th>\n",
              "      <th>Marital_Status_Single</th>\n",
              "      <th>Marital_Status_Together</th>\n",
              "      <th>Marital_Status_Widow</th>\n",
              "      <th>Marital_Status_YOLO</th>\n",
              "      <th>Country_AUS</th>\n",
              "      <th>Country_CA</th>\n",
              "      <th>Country_GER</th>\n",
              "      <th>Country_IND</th>\n",
              "      <th>Country_ME</th>\n",
              "      <th>Country_SA</th>\n",
              "      <th>Country_SP</th>\n",
              "      <th>Country_US</th>\n",
              "      <th>Year_Birth</th>\n",
              "      <th>Income</th>\n",
              "      <th>Recency</th>\n",
              "      <th>MntWines</th>\n",
              "      <th>MntFruits</th>\n",
              "      <th>MntMeatProducts</th>\n",
              "      <th>MntFishProducts</th>\n",
              "      <th>MntSweetProducts</th>\n",
              "      <th>MntGoldProds</th>\n",
              "      <th>NumDealsPurchases</th>\n",
              "      <th>NumWebPurchases</th>\n",
              "      <th>NumCatalogPurchases</th>\n",
              "      <th>NumStorePurchases</th>\n",
              "      <th>NumWebVisitsMonth</th>\n",
              "      <th>AcceptedCmp3</th>\n",
              "      <th>AcceptedCmp4</th>\n",
              "      <th>AcceptedCmp5</th>\n",
              "      <th>AcceptedCmp1</th>\n",
              "      <th>AcceptedCmp2</th>\n",
              "      <th>Response</th>\n",
              "      <th>Complain</th>\n",
              "      <th>Children</th>\n",
              "      <th>Purchased</th>\n",
              "      <th>Customer_Age</th>\n",
              "      <th>TotalMnt</th>\n",
              "      <th>TotalPurchases</th>\n",
              "      <th>TotalCampaignsAcc</th>\n",
              "    </tr>\n",
              "  </thead>\n",
              "  <tbody>\n",
              "    <tr>\n",
              "      <th>0</th>\n",
              "      <td>0.0</td>\n",
              "      <td>0.0</td>\n",
              "      <td>1.0</td>\n",
              "      <td>0.0</td>\n",
              "      <td>0.0</td>\n",
              "      <td>0.0</td>\n",
              "      <td>0.0</td>\n",
              "      <td>1.0</td>\n",
              "      <td>0.0</td>\n",
              "      <td>0.0</td>\n",
              "      <td>0.0</td>\n",
              "      <td>0.0</td>\n",
              "      <td>0.0</td>\n",
              "      <td>0.0</td>\n",
              "      <td>0.0</td>\n",
              "      <td>0.0</td>\n",
              "      <td>0.0</td>\n",
              "      <td>0.0</td>\n",
              "      <td>0.0</td>\n",
              "      <td>1.0</td>\n",
              "      <td>0.0</td>\n",
              "      <td>1970</td>\n",
              "      <td>84835.0</td>\n",
              "      <td>0</td>\n",
              "      <td>189</td>\n",
              "      <td>104</td>\n",
              "      <td>379</td>\n",
              "      <td>111</td>\n",
              "      <td>189</td>\n",
              "      <td>218</td>\n",
              "      <td>1</td>\n",
              "      <td>4</td>\n",
              "      <td>4</td>\n",
              "      <td>6</td>\n",
              "      <td>1</td>\n",
              "      <td>0</td>\n",
              "      <td>0</td>\n",
              "      <td>0</td>\n",
              "      <td>0</td>\n",
              "      <td>0</td>\n",
              "      <td>1</td>\n",
              "      <td>0</td>\n",
              "      <td>0</td>\n",
              "      <td>15</td>\n",
              "      <td>44</td>\n",
              "      <td>1190</td>\n",
              "      <td>15</td>\n",
              "      <td>1</td>\n",
              "    </tr>\n",
              "    <tr>\n",
              "      <th>1</th>\n",
              "      <td>0.0</td>\n",
              "      <td>0.0</td>\n",
              "      <td>1.0</td>\n",
              "      <td>0.0</td>\n",
              "      <td>0.0</td>\n",
              "      <td>0.0</td>\n",
              "      <td>0.0</td>\n",
              "      <td>0.0</td>\n",
              "      <td>0.0</td>\n",
              "      <td>1.0</td>\n",
              "      <td>0.0</td>\n",
              "      <td>0.0</td>\n",
              "      <td>0.0</td>\n",
              "      <td>0.0</td>\n",
              "      <td>1.0</td>\n",
              "      <td>0.0</td>\n",
              "      <td>0.0</td>\n",
              "      <td>0.0</td>\n",
              "      <td>0.0</td>\n",
              "      <td>0.0</td>\n",
              "      <td>0.0</td>\n",
              "      <td>1961</td>\n",
              "      <td>57091.0</td>\n",
              "      <td>0</td>\n",
              "      <td>464</td>\n",
              "      <td>5</td>\n",
              "      <td>64</td>\n",
              "      <td>7</td>\n",
              "      <td>0</td>\n",
              "      <td>37</td>\n",
              "      <td>1</td>\n",
              "      <td>7</td>\n",
              "      <td>3</td>\n",
              "      <td>7</td>\n",
              "      <td>5</td>\n",
              "      <td>0</td>\n",
              "      <td>0</td>\n",
              "      <td>0</td>\n",
              "      <td>0</td>\n",
              "      <td>1</td>\n",
              "      <td>1</td>\n",
              "      <td>0</td>\n",
              "      <td>0</td>\n",
              "      <td>18</td>\n",
              "      <td>53</td>\n",
              "      <td>577</td>\n",
              "      <td>18</td>\n",
              "      <td>2</td>\n",
              "    </tr>\n",
              "    <tr>\n",
              "      <th>2</th>\n",
              "      <td>0.0</td>\n",
              "      <td>0.0</td>\n",
              "      <td>1.0</td>\n",
              "      <td>0.0</td>\n",
              "      <td>0.0</td>\n",
              "      <td>0.0</td>\n",
              "      <td>0.0</td>\n",
              "      <td>0.0</td>\n",
              "      <td>1.0</td>\n",
              "      <td>0.0</td>\n",
              "      <td>0.0</td>\n",
              "      <td>0.0</td>\n",
              "      <td>0.0</td>\n",
              "      <td>0.0</td>\n",
              "      <td>0.0</td>\n",
              "      <td>0.0</td>\n",
              "      <td>0.0</td>\n",
              "      <td>0.0</td>\n",
              "      <td>0.0</td>\n",
              "      <td>0.0</td>\n",
              "      <td>1.0</td>\n",
              "      <td>1958</td>\n",
              "      <td>67267.0</td>\n",
              "      <td>0</td>\n",
              "      <td>134</td>\n",
              "      <td>11</td>\n",
              "      <td>59</td>\n",
              "      <td>15</td>\n",
              "      <td>2</td>\n",
              "      <td>30</td>\n",
              "      <td>1</td>\n",
              "      <td>3</td>\n",
              "      <td>2</td>\n",
              "      <td>5</td>\n",
              "      <td>2</td>\n",
              "      <td>0</td>\n",
              "      <td>0</td>\n",
              "      <td>0</td>\n",
              "      <td>0</td>\n",
              "      <td>0</td>\n",
              "      <td>0</td>\n",
              "      <td>0</td>\n",
              "      <td>1</td>\n",
              "      <td>11</td>\n",
              "      <td>56</td>\n",
              "      <td>251</td>\n",
              "      <td>11</td>\n",
              "      <td>0</td>\n",
              "    </tr>\n",
              "    <tr>\n",
              "      <th>3</th>\n",
              "      <td>0.0</td>\n",
              "      <td>0.0</td>\n",
              "      <td>1.0</td>\n",
              "      <td>0.0</td>\n",
              "      <td>0.0</td>\n",
              "      <td>0.0</td>\n",
              "      <td>0.0</td>\n",
              "      <td>0.0</td>\n",
              "      <td>0.0</td>\n",
              "      <td>0.0</td>\n",
              "      <td>1.0</td>\n",
              "      <td>0.0</td>\n",
              "      <td>0.0</td>\n",
              "      <td>1.0</td>\n",
              "      <td>0.0</td>\n",
              "      <td>0.0</td>\n",
              "      <td>0.0</td>\n",
              "      <td>0.0</td>\n",
              "      <td>0.0</td>\n",
              "      <td>0.0</td>\n",
              "      <td>0.0</td>\n",
              "      <td>1967</td>\n",
              "      <td>32474.0</td>\n",
              "      <td>0</td>\n",
              "      <td>10</td>\n",
              "      <td>0</td>\n",
              "      <td>1</td>\n",
              "      <td>0</td>\n",
              "      <td>0</td>\n",
              "      <td>0</td>\n",
              "      <td>1</td>\n",
              "      <td>1</td>\n",
              "      <td>0</td>\n",
              "      <td>2</td>\n",
              "      <td>7</td>\n",
              "      <td>0</td>\n",
              "      <td>0</td>\n",
              "      <td>0</td>\n",
              "      <td>0</td>\n",
              "      <td>0</td>\n",
              "      <td>0</td>\n",
              "      <td>0</td>\n",
              "      <td>2</td>\n",
              "      <td>4</td>\n",
              "      <td>47</td>\n",
              "      <td>11</td>\n",
              "      <td>4</td>\n",
              "      <td>0</td>\n",
              "    </tr>\n",
              "    <tr>\n",
              "      <th>4</th>\n",
              "      <td>0.0</td>\n",
              "      <td>0.0</td>\n",
              "      <td>1.0</td>\n",
              "      <td>0.0</td>\n",
              "      <td>0.0</td>\n",
              "      <td>0.0</td>\n",
              "      <td>0.0</td>\n",
              "      <td>0.0</td>\n",
              "      <td>0.0</td>\n",
              "      <td>1.0</td>\n",
              "      <td>0.0</td>\n",
              "      <td>0.0</td>\n",
              "      <td>0.0</td>\n",
              "      <td>0.0</td>\n",
              "      <td>0.0</td>\n",
              "      <td>0.0</td>\n",
              "      <td>0.0</td>\n",
              "      <td>0.0</td>\n",
              "      <td>0.0</td>\n",
              "      <td>1.0</td>\n",
              "      <td>0.0</td>\n",
              "      <td>1989</td>\n",
              "      <td>21474.0</td>\n",
              "      <td>0</td>\n",
              "      <td>6</td>\n",
              "      <td>16</td>\n",
              "      <td>24</td>\n",
              "      <td>11</td>\n",
              "      <td>0</td>\n",
              "      <td>34</td>\n",
              "      <td>2</td>\n",
              "      <td>3</td>\n",
              "      <td>1</td>\n",
              "      <td>2</td>\n",
              "      <td>7</td>\n",
              "      <td>1</td>\n",
              "      <td>0</td>\n",
              "      <td>0</td>\n",
              "      <td>0</td>\n",
              "      <td>0</td>\n",
              "      <td>1</td>\n",
              "      <td>0</td>\n",
              "      <td>1</td>\n",
              "      <td>8</td>\n",
              "      <td>25</td>\n",
              "      <td>91</td>\n",
              "      <td>8</td>\n",
              "      <td>2</td>\n",
              "    </tr>\n",
              "  </tbody>\n",
              "</table>\n",
              "</div>"
            ],
            "text/plain": [
              "   Education_2n Cycle  Education_Basic  ...  TotalPurchases  TotalCampaignsAcc\n",
              "0                 0.0              0.0  ...              15                  1\n",
              "1                 0.0              0.0  ...              18                  2\n",
              "2                 0.0              0.0  ...              11                  0\n",
              "3                 0.0              0.0  ...               4                  0\n",
              "4                 0.0              0.0  ...               8                  2\n",
              "\n",
              "[5 rows x 48 columns]"
            ]
          },
          "metadata": {
            "tags": []
          },
          "execution_count": 90
        }
      ]
    },
    {
      "cell_type": "code",
      "metadata": {
        "id": "xZF9PGtm_UDy",
        "colab": {
          "base_uri": "https://localhost:8080/",
          "height": 669
        },
        "outputId": "2a3cd1a5-f77a-4fd7-b6c2-e702b580b298"
      },
      "source": [
        "#Join\r\n",
        "data[\"Marital_Status_Bachelor\"]=data[\"Marital_Status_Alone\"]+data[\"Marital_Status_Single\"]+data[\"Marital_Status_YOLO\"]+data[\"Marital_Status_Absurd\"]\r\n",
        "\r\n",
        "#drop unique ID\r\n",
        "data.drop(columns=['Marital_Status_Alone', 'Marital_Status_Single','Marital_Status_YOLO','Marital_Status_Absurd'], inplace=True)\r\n",
        "\r\n",
        "data[['Marital_Status_Divorced', 'Marital_Status_Married', 'Marital_Status_Together', 'Marital_Status_Widow', 'Marital_Status_Bachelor']].head(20)"
      ],
      "execution_count": null,
      "outputs": [
        {
          "output_type": "execute_result",
          "data": {
            "text/html": [
              "<div>\n",
              "<style scoped>\n",
              "    .dataframe tbody tr th:only-of-type {\n",
              "        vertical-align: middle;\n",
              "    }\n",
              "\n",
              "    .dataframe tbody tr th {\n",
              "        vertical-align: top;\n",
              "    }\n",
              "\n",
              "    .dataframe thead th {\n",
              "        text-align: right;\n",
              "    }\n",
              "</style>\n",
              "<table border=\"1\" class=\"dataframe\">\n",
              "  <thead>\n",
              "    <tr style=\"text-align: right;\">\n",
              "      <th></th>\n",
              "      <th>Marital_Status_Divorced</th>\n",
              "      <th>Marital_Status_Married</th>\n",
              "      <th>Marital_Status_Together</th>\n",
              "      <th>Marital_Status_Widow</th>\n",
              "      <th>Marital_Status_Bachelor</th>\n",
              "    </tr>\n",
              "  </thead>\n",
              "  <tbody>\n",
              "    <tr>\n",
              "      <th>0</th>\n",
              "      <td>1.0</td>\n",
              "      <td>0.0</td>\n",
              "      <td>0.0</td>\n",
              "      <td>0.0</td>\n",
              "      <td>0.0</td>\n",
              "    </tr>\n",
              "    <tr>\n",
              "      <th>1</th>\n",
              "      <td>0.0</td>\n",
              "      <td>0.0</td>\n",
              "      <td>0.0</td>\n",
              "      <td>0.0</td>\n",
              "      <td>1.0</td>\n",
              "    </tr>\n",
              "    <tr>\n",
              "      <th>2</th>\n",
              "      <td>0.0</td>\n",
              "      <td>1.0</td>\n",
              "      <td>0.0</td>\n",
              "      <td>0.0</td>\n",
              "      <td>0.0</td>\n",
              "    </tr>\n",
              "    <tr>\n",
              "      <th>3</th>\n",
              "      <td>0.0</td>\n",
              "      <td>0.0</td>\n",
              "      <td>1.0</td>\n",
              "      <td>0.0</td>\n",
              "      <td>0.0</td>\n",
              "    </tr>\n",
              "    <tr>\n",
              "      <th>4</th>\n",
              "      <td>0.0</td>\n",
              "      <td>0.0</td>\n",
              "      <td>0.0</td>\n",
              "      <td>0.0</td>\n",
              "      <td>1.0</td>\n",
              "    </tr>\n",
              "    <tr>\n",
              "      <th>5</th>\n",
              "      <td>0.0</td>\n",
              "      <td>0.0</td>\n",
              "      <td>0.0</td>\n",
              "      <td>0.0</td>\n",
              "      <td>1.0</td>\n",
              "    </tr>\n",
              "    <tr>\n",
              "      <th>6</th>\n",
              "      <td>0.0</td>\n",
              "      <td>1.0</td>\n",
              "      <td>0.0</td>\n",
              "      <td>0.0</td>\n",
              "      <td>0.0</td>\n",
              "    </tr>\n",
              "    <tr>\n",
              "      <th>7</th>\n",
              "      <td>0.0</td>\n",
              "      <td>0.0</td>\n",
              "      <td>1.0</td>\n",
              "      <td>0.0</td>\n",
              "      <td>0.0</td>\n",
              "    </tr>\n",
              "    <tr>\n",
              "      <th>8</th>\n",
              "      <td>0.0</td>\n",
              "      <td>1.0</td>\n",
              "      <td>0.0</td>\n",
              "      <td>0.0</td>\n",
              "      <td>0.0</td>\n",
              "    </tr>\n",
              "    <tr>\n",
              "      <th>9</th>\n",
              "      <td>0.0</td>\n",
              "      <td>1.0</td>\n",
              "      <td>0.0</td>\n",
              "      <td>0.0</td>\n",
              "      <td>0.0</td>\n",
              "    </tr>\n",
              "    <tr>\n",
              "      <th>10</th>\n",
              "      <td>0.0</td>\n",
              "      <td>1.0</td>\n",
              "      <td>0.0</td>\n",
              "      <td>0.0</td>\n",
              "      <td>0.0</td>\n",
              "    </tr>\n",
              "    <tr>\n",
              "      <th>11</th>\n",
              "      <td>0.0</td>\n",
              "      <td>0.0</td>\n",
              "      <td>1.0</td>\n",
              "      <td>0.0</td>\n",
              "      <td>0.0</td>\n",
              "    </tr>\n",
              "    <tr>\n",
              "      <th>12</th>\n",
              "      <td>0.0</td>\n",
              "      <td>0.0</td>\n",
              "      <td>0.0</td>\n",
              "      <td>1.0</td>\n",
              "      <td>0.0</td>\n",
              "    </tr>\n",
              "    <tr>\n",
              "      <th>13</th>\n",
              "      <td>0.0</td>\n",
              "      <td>1.0</td>\n",
              "      <td>0.0</td>\n",
              "      <td>0.0</td>\n",
              "      <td>0.0</td>\n",
              "    </tr>\n",
              "    <tr>\n",
              "      <th>14</th>\n",
              "      <td>0.0</td>\n",
              "      <td>1.0</td>\n",
              "      <td>0.0</td>\n",
              "      <td>0.0</td>\n",
              "      <td>0.0</td>\n",
              "    </tr>\n",
              "    <tr>\n",
              "      <th>15</th>\n",
              "      <td>0.0</td>\n",
              "      <td>1.0</td>\n",
              "      <td>0.0</td>\n",
              "      <td>0.0</td>\n",
              "      <td>0.0</td>\n",
              "    </tr>\n",
              "    <tr>\n",
              "      <th>16</th>\n",
              "      <td>0.0</td>\n",
              "      <td>1.0</td>\n",
              "      <td>0.0</td>\n",
              "      <td>0.0</td>\n",
              "      <td>0.0</td>\n",
              "    </tr>\n",
              "    <tr>\n",
              "      <th>17</th>\n",
              "      <td>1.0</td>\n",
              "      <td>0.0</td>\n",
              "      <td>0.0</td>\n",
              "      <td>0.0</td>\n",
              "      <td>0.0</td>\n",
              "    </tr>\n",
              "    <tr>\n",
              "      <th>18</th>\n",
              "      <td>0.0</td>\n",
              "      <td>0.0</td>\n",
              "      <td>0.0</td>\n",
              "      <td>0.0</td>\n",
              "      <td>1.0</td>\n",
              "    </tr>\n",
              "    <tr>\n",
              "      <th>19</th>\n",
              "      <td>0.0</td>\n",
              "      <td>0.0</td>\n",
              "      <td>0.0</td>\n",
              "      <td>0.0</td>\n",
              "      <td>1.0</td>\n",
              "    </tr>\n",
              "  </tbody>\n",
              "</table>\n",
              "</div>"
            ],
            "text/plain": [
              "    Marital_Status_Divorced  ...  Marital_Status_Bachelor\n",
              "0                       1.0  ...                      0.0\n",
              "1                       0.0  ...                      1.0\n",
              "2                       0.0  ...                      0.0\n",
              "3                       0.0  ...                      0.0\n",
              "4                       0.0  ...                      1.0\n",
              "5                       0.0  ...                      1.0\n",
              "6                       0.0  ...                      0.0\n",
              "7                       0.0  ...                      0.0\n",
              "8                       0.0  ...                      0.0\n",
              "9                       0.0  ...                      0.0\n",
              "10                      0.0  ...                      0.0\n",
              "11                      0.0  ...                      0.0\n",
              "12                      0.0  ...                      0.0\n",
              "13                      0.0  ...                      0.0\n",
              "14                      0.0  ...                      0.0\n",
              "15                      0.0  ...                      0.0\n",
              "16                      0.0  ...                      0.0\n",
              "17                      1.0  ...                      0.0\n",
              "18                      0.0  ...                      1.0\n",
              "19                      0.0  ...                      1.0\n",
              "\n",
              "[20 rows x 5 columns]"
            ]
          },
          "metadata": {
            "tags": []
          },
          "execution_count": 15
        }
      ]
    },
    {
      "cell_type": "markdown",
      "metadata": {
        "id": "WbtH31Wjwyz7"
      },
      "source": [
        "# **3. Data Visualization**"
      ]
    },
    {
      "cell_type": "markdown",
      "metadata": {
        "id": "ktt5PVGjs1hI"
      },
      "source": [
        "**Box Plots**"
      ]
    },
    {
      "cell_type": "code",
      "metadata": {
        "colab": {
          "base_uri": "https://localhost:8080/",
          "height": 285
        },
        "id": "nGDyg8fTr-Mm",
        "outputId": "7e3c6542-7c9e-48c4-ed9d-e3160c15346d"
      },
      "source": [
        "#TotalMnt vs Children\r\n",
        "plt.figure(figsize=(4,4))\r\n",
        "sns.boxplot(x='Children', y='TotalMnt', data=data);"
      ],
      "execution_count": null,
      "outputs": [
        {
          "output_type": "display_data",
          "data": {
            "image/png": "[encoded data removed]",
            "text/plain": [
              "<Figure size 288x288 with 1 Axes>"
            ]
          },
          "metadata": {
            "tags": [],
            "needs_background": "light"
          }
        }
      ]
    },
    {
      "cell_type": "code",
      "metadata": {
        "colab": {
          "base_uri": "https://localhost:8080/",
          "height": 285
        },
        "id": "ILd_zN6etQaX",
        "outputId": "a4f49bce-d2d0-4d0a-d8a9-da3c7ad66817"
      },
      "source": [
        "#Income vs TotalCampaignAcc\r\n",
        "plt.figure(figsize=(5.5,4))\r\n",
        "sns.boxplot(x='TotalCampaignsAcc', y='Income', data=data);"
      ],
      "execution_count": null,
      "outputs": [
        {
          "output_type": "display_data",
          "data": {
            "image/png": "[encoded data removed]",
            "text/plain": [
              "<Figure size 396x288 with 1 Axes>"
            ]
          },
          "metadata": {
            "tags": [],
            "needs_background": "light"
          }
        }
      ]
    },
    {
      "cell_type": "markdown",
      "metadata": {
        "id": "dXehteMNGrO-"
      },
      "source": [
        "After removal of outliers"
      ]
    },
    {
      "cell_type": "code",
      "metadata": {
        "colab": {
          "base_uri": "https://localhost:8080/",
          "height": 285
        },
        "id": "tc2iULLGtoJl",
        "outputId": "a6b7b7d6-2b91-4e69-c86d-fe78de26bf6f"
      },
      "source": [
        "#Income vs TotalChampaignAcc\r\n",
        "plt.figure(figsize=(5.5,4))\r\n",
        "sns.boxplot(x='TotalCampaignsAcc', y='Income', data=data[data['Income']<200000]);"
      ],
      "execution_count": null,
      "outputs": [
        {
          "output_type": "display_data",
          "data": {
            "image/png": "[encoded data removed]",
            "text/plain": [
              "<Figure size 396x288 with 1 Axes>"
            ]
          },
          "metadata": {
            "tags": [],
            "needs_background": "light"
          }
        }
      ]
    },
    {
      "cell_type": "code",
      "metadata": {
        "colab": {
          "base_uri": "https://localhost:8080/",
          "height": 285
        },
        "id": "L1GH2Pf6tyl7",
        "outputId": "56011714-95be-4c59-c7a8-bb14fcf96e2c"
      },
      "source": [
        "#TotalChampaignAcc vs Children\r\n",
        "plt.figure(figsize=(4,4))\r\n",
        "sns.boxplot(x='TotalCampaignsAcc', y='Children', data=data);"
      ],
      "execution_count": null,
      "outputs": [
        {
          "output_type": "display_data",
          "data": {
            "image/png": "[encoded data removed]",
            "text/plain": [
              "<Figure size 288x288 with 1 Axes>"
            ]
          },
          "metadata": {
            "tags": [],
            "needs_background": "light"
          }
        }
      ]
    },
    {
      "cell_type": "code",
      "metadata": {
        "colab": {
          "base_uri": "https://localhost:8080/",
          "height": 285
        },
        "id": "P2HZdB5gt7QY",
        "outputId": "2c42e936-b76e-41a8-a10e-8224ee9dc4f4"
      },
      "source": [
        "#TotalMnt vs Children\r\n",
        "plt.figure(figsize=(4,4))\r\n",
        "sns.boxplot(x='Children', y='TotalMnt', data=data);"
      ],
      "execution_count": null,
      "outputs": [
        {
          "output_type": "display_data",
          "data": {
            "image/png": "[encoded data removed]",
            "text/plain": [
              "<Figure size 288x288 with 1 Axes>"
            ]
          },
          "metadata": {
            "tags": [],
            "needs_background": "light"
          }
        }
      ]
    },
    {
      "cell_type": "code",
      "metadata": {
        "colab": {
          "base_uri": "https://localhost:8080/",
          "height": 285
        },
        "id": "PpVEKyxxuViB",
        "outputId": "335fb105-9aea-46bb-f59f-7fe09ab1492b"
      },
      "source": [
        "#NumDealPurchase vs Children\r\n",
        "plt.figure(figsize=(4,4))\r\n",
        "sns.boxplot(x='Children', y='NumDealsPurchases', data=data);"
      ],
      "execution_count": null,
      "outputs": [
        {
          "output_type": "display_data",
          "data": {
            "image/png": "[encoded data removed]",
            "text/plain": [
              "<Figure size 288x288 with 1 Axes>"
            ]
          },
          "metadata": {
            "tags": [],
            "needs_background": "light"
          }
        }
      ]
    },
    {
      "cell_type": "code",
      "metadata": {
        "colab": {
          "base_uri": "https://localhost:8080/",
          "height": 285
        },
        "id": "Tw4zWQLfNM8O",
        "outputId": "bd5c91ac-9adc-45df-da2d-cce08496474d"
      },
      "source": [
        "plt.figure(figsize=(8,4))\r\n",
        "sns.boxplot(x='Marital_Status', y='Children', data=data);"
      ],
      "execution_count": null,
      "outputs": [
        {
          "output_type": "display_data",
          "data": {
            "image/png": "[encoded data removed]",
            "text/plain": [
              "<Figure size 576x288 with 1 Axes>"
            ]
          },
          "metadata": {
            "tags": [],
            "needs_background": "light"
          }
        }
      ]
    },
    {
      "cell_type": "code",
      "metadata": {
        "colab": {
          "base_uri": "https://localhost:8080/",
          "height": 302
        },
        "id": "PFVE08G_ufKa",
        "outputId": "bb59c752-8b3a-447b-c724-40f020ae4525"
      },
      "source": [
        "#graph of number of store purchase\r\n",
        "plt.figure(figsize=(8,3))\r\n",
        "sns.distplot(data['NumStorePurchases'], kde=False, hist=True, bins=12)\r\n",
        "plt.title('NumStorePurchases distribution', size=16)\r\n",
        "plt.ylabel('count');"
      ],
      "execution_count": null,
      "outputs": [
        {
          "output_type": "stream",
          "text": [
            "/usr/local/lib/python3.6/dist-packages/seaborn/distributions.py:2557: FutureWarning: `distplot` is a deprecated function and will be removed in a future version. Please adapt your code to use either `displot` (a figure-level function with similar flexibility) or `histplot` (an axes-level function for histograms).\n",
            "  warnings.warn(msg, FutureWarning)\n"
          ],
          "name": "stderr"
        },
        {
          "output_type": "display_data",
          "data": {
            "image/png": "[encoded data removed]",
            "text/plain": [
              "<Figure size 576x216 with 1 Axes>"
            ]
          },
          "metadata": {
            "tags": [],
            "needs_background": "light"
          }
        }
      ]
    },
    {
      "cell_type": "code",
      "metadata": {
        "colab": {
          "base_uri": "https://localhost:8080/",
          "height": 302
        },
        "id": "tQ0nwWOMNjqC",
        "outputId": "83062095-2402-4645-fa63-a5b6457fd39a"
      },
      "source": [
        "sns.countplot(x='NumDealsPurchases',data=data)"
      ],
      "execution_count": null,
      "outputs": [
        {
          "output_type": "execute_result",
          "data": {
            "text/plain": [
              "<matplotlib.axes._subplots.AxesSubplot at 0x7fb974dab588>"
            ]
          },
          "metadata": {
            "tags": []
          },
          "execution_count": 19
        },
        {
          "output_type": "display_data",
          "data": {
            "image/png": "[encoded data removed]",
            "text/plain": [
              "<Figure size 432x288 with 1 Axes>"
            ]
          },
          "metadata": {
            "tags": [],
            "needs_background": "light"
          }
        }
      ]
    },
    {
      "cell_type": "code",
      "metadata": {
        "colab": {
          "base_uri": "https://localhost:8080/",
          "height": 302
        },
        "id": "VucSUw6YN93Y",
        "outputId": "5d5bd8c5-113b-4c67-8b43-1b2742ac32ec"
      },
      "source": [
        "sns.countplot(x='NumWebPurchases',data=data)\r\n"
      ],
      "execution_count": null,
      "outputs": [
        {
          "output_type": "execute_result",
          "data": {
            "text/plain": [
              "<matplotlib.axes._subplots.AxesSubplot at 0x7fb974514a58>"
            ]
          },
          "metadata": {
            "tags": []
          },
          "execution_count": 20
        },
        {
          "output_type": "display_data",
          "data": {
            "image/png": "[encoded data removed]",
            "text/plain": [
              "<Figure size 432x288 with 1 Axes>"
            ]
          },
          "metadata": {
            "tags": [],
            "needs_background": "light"
          }
        }
      ]
    },
    {
      "cell_type": "code",
      "metadata": {
        "colab": {
          "base_uri": "https://localhost:8080/",
          "height": 302
        },
        "id": "qomt78qWOA9X",
        "outputId": "6afa8675-e6f7-4d7d-ca19-37a2b4b21aa4"
      },
      "source": [
        "sns.countplot(x='NumCatalogPurchases',data=data)\r\n"
      ],
      "execution_count": null,
      "outputs": [
        {
          "output_type": "execute_result",
          "data": {
            "text/plain": [
              "<matplotlib.axes._subplots.AxesSubplot at 0x7fb974024748>"
            ]
          },
          "metadata": {
            "tags": []
          },
          "execution_count": 21
        },
        {
          "output_type": "display_data",
          "data": {
            "image/png": "[encoded data removed]",
            "text/plain": [
              "<Figure size 432x288 with 1 Axes>"
            ]
          },
          "metadata": {
            "tags": [],
            "needs_background": "light"
          }
        }
      ]
    },
    {
      "cell_type": "code",
      "metadata": {
        "colab": {
          "base_uri": "https://localhost:8080/",
          "height": 302
        },
        "id": "oNmyG6tbOCD2",
        "outputId": "1e9e52a4-759f-4050-8909-117f7a261438"
      },
      "source": [
        "sns.countplot(x='NumStorePurchases',data=data)"
      ],
      "execution_count": null,
      "outputs": [
        {
          "output_type": "execute_result",
          "data": {
            "text/plain": [
              "<matplotlib.axes._subplots.AxesSubplot at 0x7fb973fbd898>"
            ]
          },
          "metadata": {
            "tags": []
          },
          "execution_count": 22
        },
        {
          "output_type": "display_data",
          "data": {
            "image/png": "[encoded data removed]",
            "text/plain": [
              "<Figure size 432x288 with 1 Axes>"
            ]
          },
          "metadata": {
            "tags": [],
            "needs_background": "light"
          }
        }
      ]
    },
    {
      "cell_type": "markdown",
      "metadata": {
        "id": "nXssrSBoKnAO"
      },
      "source": [
        "**Bar Graph**"
      ]
    },
    {
      "cell_type": "code",
      "metadata": {
        "colab": {
          "base_uri": "https://localhost:8080/",
          "height": 302
        },
        "id": "Ddp74WEkNV-Z",
        "outputId": "044459d6-af95-4124-a24f-6efd46cf141e"
      },
      "source": [
        "sns.countplot(x='Purchased',data=data)"
      ],
      "execution_count": null,
      "outputs": [
        {
          "output_type": "execute_result",
          "data": {
            "text/plain": [
              "<matplotlib.axes._subplots.AxesSubplot at 0x7fb973ee02b0>"
            ]
          },
          "metadata": {
            "tags": []
          },
          "execution_count": 29
        },
        {
          "output_type": "display_data",
          "data": {
            "image/png": "[encoded data removed]",
            "text/plain": [
              "<Figure size 432x288 with 1 Axes>"
            ]
          },
          "metadata": {
            "tags": [],
            "needs_background": "light"
          }
        }
      ]
    },
    {
      "cell_type": "code",
      "metadata": {
        "colab": {
          "base_uri": "https://localhost:8080/",
          "height": 302
        },
        "id": "xwPmgOK_ieLQ",
        "outputId": "27231165-467d-4d1e-d04b-f6cbc2775b91"
      },
      "source": [
        "sns.countplot(x='Total_Marital_Status',data=data)"
      ],
      "execution_count": null,
      "outputs": [
        {
          "output_type": "execute_result",
          "data": {
            "text/plain": [
              "<matplotlib.axes._subplots.AxesSubplot at 0x7fb7168b1390>"
            ]
          },
          "metadata": {
            "tags": []
          },
          "execution_count": 21
        },
        {
          "output_type": "display_data",
          "data": {
            "image/png": "[encoded data removed]",
            "text/plain": [
              "<Figure size 432x288 with 1 Axes>"
            ]
          },
          "metadata": {
            "tags": [],
            "needs_background": "light"
          }
        }
      ]
    },
    {
      "cell_type": "code",
      "metadata": {
        "colab": {
          "base_uri": "https://localhost:8080/",
          "height": 302
        },
        "id": "XI5CrAiwjylB",
        "outputId": "d231105d-9480-4d33-e5ef-2e1d1fbe1b35"
      },
      "source": [
        "sns.countplot(x='Education',data=data)"
      ],
      "execution_count": null,
      "outputs": [
        {
          "output_type": "execute_result",
          "data": {
            "text/plain": [
              "<matplotlib.axes._subplots.AxesSubplot at 0x7fb973dfb3c8>"
            ]
          },
          "metadata": {
            "tags": []
          },
          "execution_count": 31
        },
        {
          "output_type": "display_data",
          "data": {
            "image/png": "[encoded data removed]",
            "text/plain": [
              "<Figure size 432x288 with 1 Axes>"
            ]
          },
          "metadata": {
            "tags": [],
            "needs_background": "light"
          }
        }
      ]
    },
    {
      "cell_type": "markdown",
      "metadata": {
        "id": "-v5lK_hy5wfG"
      },
      "source": [
        "# 1. Which marketing campaign is most successful?"
      ]
    },
    {
      "cell_type": "code",
      "metadata": {
        "colab": {
          "base_uri": "https://localhost:8080/",
          "height": 303
        },
        "id": "B78LiWoZ5qq8",
        "outputId": "eb5ed904-0039-4d6f-9589-c670968b6d08"
      },
      "source": [
        "# calculate success rate (percent accepted)\r\n",
        "cam_success = pd.DataFrame(data[['AcceptedCmp1', 'AcceptedCmp2', 'AcceptedCmp3', 'AcceptedCmp4', 'AcceptedCmp5', 'Response']].mean()*100, \r\n",
        "                           columns=['Percent']).reset_index()\r\n",
        "\r\n",
        "# plot\r\n",
        "sns.barplot(x='Percent', y='index', data=cam_success.sort_values('Percent'), palette='Blues')\r\n",
        "plt.xlabel('Accepted (%)')\r\n",
        "plt.ylabel('Campaign')\r\n",
        "plt.title('Marketing campaign success rate', size=16);"
      ],
      "execution_count": 74,
      "outputs": [
        {
          "output_type": "display_data",
          "data": {
            "image/png": "[encoded data removed]",
            "text/plain": [
              "<Figure size 432x288 with 1 Axes>"
            ]
          },
          "metadata": {
            "tags": [],
            "needs_background": "light"
          }
        }
      ]
    },
    {
      "cell_type": "markdown",
      "metadata": {
        "id": "UXyxEG3Cw5YT"
      },
      "source": [
        "# **Model Training**"
      ]
    },
    {
      "cell_type": "code",
      "metadata": {
        "id": "lZsR2LqlvuX8",
        "colab": {
          "base_uri": "https://localhost:8080/"
        },
        "outputId": "e421d88c-3ea3-4208-a937-15188c6e469f"
      },
      "source": [
        "from sklearn.model_selection import train_test_split\r\n",
        "from sklearn.linear_model import LinearRegression\r\n",
        "from sklearn.metrics import mean_squared_error\r\n",
        "\r\n",
        "# isolate X and y variables, and perform train-test split\r\n",
        "X = data.drop(columns='NumStorePurchases')\r\n",
        "y = data['NumStorePurchases']\r\n",
        "\r\n",
        "X_train, X_test, y_train, y_test = train_test_split(X, y, test_size=0.3, random_state=1)\r\n",
        "\r\n",
        "# linear regression model\r\n",
        "model = LinearRegression()\r\n",
        "model.fit(X_train, y_train)\r\n",
        "\r\n",
        "# predictions\r\n",
        "preds = model.predict(X_test)\r\n",
        "\r\n",
        "# evaluate model using RMSE\r\n",
        "print(\"Linear regression model RMSE: \", np.sqrt(mean_squared_error(y_test, preds)))\r\n",
        "print(\"Median value of target variable: \", y.median())"
      ],
      "execution_count": 91,
      "outputs": [
        {
          "output_type": "stream",
          "text": [
            "Linear regression model RMSE:  3.1720926077751955e-14\n",
            "Median value of target variable:  5.0\n"
          ],
          "name": "stdout"
        }
      ]
    },
    {
      "cell_type": "markdown",
      "metadata": {
        "id": "iJ7IyxotNHwd"
      },
      "source": [
        "Download csv file"
      ]
    },
    {
      "cell_type": "code",
      "metadata": {
        "id": "S3wDWzN-vNlY",
        "colab": {
          "base_uri": "https://localhost:8080/",
          "height": 17
        },
        "outputId": "4b27f263-df07-4a70-baa5-8666b95b4663"
      },
      "source": [
        "from google.colab import files\r\n",
        "data.to_csv('filename.csv') \r\n",
        "files.download('filename.csv')"
      ],
      "execution_count": 94,
      "outputs": [
        {
          "output_type": "display_data",
          "data": {
            "application/javascript": [
              "\n",
              "    async function download(id, filename, size) {\n",
              "      if (!google.colab.kernel.accessAllowed) {\n",
              "        return;\n",
              "      }\n",
              "      const div = document.createElement('div');\n",
              "      const label = document.createElement('label');\n",
              "      label.textContent = `Downloading \"${filename}\": `;\n",
              "      div.appendChild(label);\n",
              "      const progress = document.createElement('progress');\n",
              "      progress.max = size;\n",
              "      div.appendChild(progress);\n",
              "      document.body.appendChild(div);\n",
              "\n",
              "      const buffers = [];\n",
              "      let downloaded = 0;\n",
              "\n",
              "      const channel = await google.colab.kernel.comms.open(id);\n",
              "      // Send a message to notify the kernel that we're ready.\n",
              "      channel.send({})\n",
              "\n",
              "      for await (const message of channel.messages) {\n",
              "        // Send a message to notify the kernel that we're ready.\n",
              "        channel.send({})\n",
              "        if (message.buffers) {\n",
              "          for (const buffer of message.buffers) {\n",
              "            buffers.push(buffer);\n",
              "            downloaded += buffer.byteLength;\n",
              "            progress.value = downloaded;\n",
              "          }\n",
              "        }\n",
              "      }\n",
              "      const blob = new Blob(buffers, {type: 'application/binary'});\n",
              "      const a = document.createElement('a');\n",
              "      a.href = window.URL.createObjectURL(blob);\n",
              "      a.download = filename;\n",
              "      div.appendChild(a);\n",
              "      a.click();\n",
              "      div.remove();\n",
              "    }\n",
              "  "
            ],
            "text/plain": [
              "<IPython.core.display.Javascript object>"
            ]
          },
          "metadata": {
            "tags": []
          }
        },
        {
          "output_type": "display_data",
          "data": {
            "application/javascript": [
              "download(\"download_9e58d7f5-f52b-4e6c-8d9a-6a155d764c2c\", \"filename.csv\", 364632)"
            ],
            "text/plain": [
              "<IPython.core.display.Javascript object>"
            ]
          },
          "metadata": {
            "tags": []
          }
        }
      ]
    },
    {
      "cell_type": "markdown",
      "metadata": {
        "id": "u_2Keg19x1Mu"
      },
      "source": [
        "# **Conclusion**"
      ]
    },
    {
      "cell_type": "markdown",
      "metadata": {
        "id": "D4v-qXb3xzE1"
      },
      "source": [
        "\r\n",
        "\r\n",
        "*   We can conclude that the most successful products are wine and meat. \r\n",
        "*   Advertising campaign acceptance is positively correlated with income and negatively correlated with having children. \r\n",
        "*The new campaign was the most successful advertising campaign and was especially successful in Spain.\r\n",
        "*Web and store purchases were the most. \r\n",
        "*Despite Mexico having the highest youth income, they spend the least because company has least users from Mexico.\r\n",
        "\r\n",
        "\r\n",
        "\r\n",
        " \r\n",
        "\r\n",
        "\r\n"
      ]
    }
  ]
}